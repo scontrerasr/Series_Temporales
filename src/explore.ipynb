{
    "cells": [
        {
            "cell_type": "markdown",
            "metadata": {},
            "source": [
                "# Explore here"
            ]
        },
        {
            "cell_type": "code",
            "execution_count": 1,
            "metadata": {},
            "outputs": [
                {
                    "data": {
                        "text/html": [
                            "<div>\n",
                            "<style scoped>\n",
                            "    .dataframe tbody tr th:only-of-type {\n",
                            "        vertical-align: middle;\n",
                            "    }\n",
                            "\n",
                            "    .dataframe tbody tr th {\n",
                            "        vertical-align: top;\n",
                            "    }\n",
                            "\n",
                            "    .dataframe thead th {\n",
                            "        text-align: right;\n",
                            "    }\n",
                            "</style>\n",
                            "<table border=\"1\" class=\"dataframe\">\n",
                            "  <thead>\n",
                            "    <tr style=\"text-align: right;\">\n",
                            "      <th></th>\n",
                            "      <th>Date</th>\n",
                            "      <th>Rainfall_Le_Croci</th>\n",
                            "      <th>Rainfall_Cavallina</th>\n",
                            "      <th>Rainfall_S_Agata</th>\n",
                            "      <th>Rainfall_Mangona</th>\n",
                            "      <th>Rainfall_S_Piero</th>\n",
                            "      <th>Rainfall_Vernio</th>\n",
                            "      <th>Rainfall_Stia</th>\n",
                            "      <th>Rainfall_Consuma</th>\n",
                            "      <th>Rainfall_Incisa</th>\n",
                            "      <th>Rainfall_Montevarchi</th>\n",
                            "      <th>Rainfall_S_Savino</th>\n",
                            "      <th>Rainfall_Laterina</th>\n",
                            "      <th>Rainfall_Bibbiena</th>\n",
                            "      <th>Rainfall_Camaldoli</th>\n",
                            "      <th>Temperature_Firenze</th>\n",
                            "      <th>Hydrometry_Nave_di_Rosano</th>\n",
                            "    </tr>\n",
                            "  </thead>\n",
                            "  <tbody>\n",
                            "    <tr>\n",
                            "      <th>0</th>\n",
                            "      <td>01/01/1998</td>\n",
                            "      <td>NaN</td>\n",
                            "      <td>NaN</td>\n",
                            "      <td>NaN</td>\n",
                            "      <td>NaN</td>\n",
                            "      <td>NaN</td>\n",
                            "      <td>NaN</td>\n",
                            "      <td>NaN</td>\n",
                            "      <td>NaN</td>\n",
                            "      <td>NaN</td>\n",
                            "      <td>NaN</td>\n",
                            "      <td>NaN</td>\n",
                            "      <td>NaN</td>\n",
                            "      <td>NaN</td>\n",
                            "      <td>NaN</td>\n",
                            "      <td>NaN</td>\n",
                            "      <td>1.82</td>\n",
                            "    </tr>\n",
                            "    <tr>\n",
                            "      <th>1</th>\n",
                            "      <td>02/01/1998</td>\n",
                            "      <td>NaN</td>\n",
                            "      <td>NaN</td>\n",
                            "      <td>NaN</td>\n",
                            "      <td>NaN</td>\n",
                            "      <td>NaN</td>\n",
                            "      <td>NaN</td>\n",
                            "      <td>NaN</td>\n",
                            "      <td>NaN</td>\n",
                            "      <td>NaN</td>\n",
                            "      <td>NaN</td>\n",
                            "      <td>NaN</td>\n",
                            "      <td>NaN</td>\n",
                            "      <td>NaN</td>\n",
                            "      <td>NaN</td>\n",
                            "      <td>NaN</td>\n",
                            "      <td>1.94</td>\n",
                            "    </tr>\n",
                            "    <tr>\n",
                            "      <th>2</th>\n",
                            "      <td>03/01/1998</td>\n",
                            "      <td>NaN</td>\n",
                            "      <td>NaN</td>\n",
                            "      <td>NaN</td>\n",
                            "      <td>NaN</td>\n",
                            "      <td>NaN</td>\n",
                            "      <td>NaN</td>\n",
                            "      <td>NaN</td>\n",
                            "      <td>NaN</td>\n",
                            "      <td>NaN</td>\n",
                            "      <td>NaN</td>\n",
                            "      <td>NaN</td>\n",
                            "      <td>NaN</td>\n",
                            "      <td>NaN</td>\n",
                            "      <td>NaN</td>\n",
                            "      <td>NaN</td>\n",
                            "      <td>2.11</td>\n",
                            "    </tr>\n",
                            "    <tr>\n",
                            "      <th>3</th>\n",
                            "      <td>04/01/1998</td>\n",
                            "      <td>NaN</td>\n",
                            "      <td>NaN</td>\n",
                            "      <td>NaN</td>\n",
                            "      <td>NaN</td>\n",
                            "      <td>NaN</td>\n",
                            "      <td>NaN</td>\n",
                            "      <td>NaN</td>\n",
                            "      <td>NaN</td>\n",
                            "      <td>NaN</td>\n",
                            "      <td>NaN</td>\n",
                            "      <td>NaN</td>\n",
                            "      <td>NaN</td>\n",
                            "      <td>NaN</td>\n",
                            "      <td>NaN</td>\n",
                            "      <td>NaN</td>\n",
                            "      <td>1.84</td>\n",
                            "    </tr>\n",
                            "    <tr>\n",
                            "      <th>4</th>\n",
                            "      <td>05/01/1998</td>\n",
                            "      <td>NaN</td>\n",
                            "      <td>NaN</td>\n",
                            "      <td>NaN</td>\n",
                            "      <td>NaN</td>\n",
                            "      <td>NaN</td>\n",
                            "      <td>NaN</td>\n",
                            "      <td>NaN</td>\n",
                            "      <td>NaN</td>\n",
                            "      <td>NaN</td>\n",
                            "      <td>NaN</td>\n",
                            "      <td>NaN</td>\n",
                            "      <td>NaN</td>\n",
                            "      <td>NaN</td>\n",
                            "      <td>NaN</td>\n",
                            "      <td>NaN</td>\n",
                            "      <td>1.88</td>\n",
                            "    </tr>\n",
                            "  </tbody>\n",
                            "</table>\n",
                            "</div>"
                        ],
                        "text/plain": [
                            "         Date  Rainfall_Le_Croci  Rainfall_Cavallina  Rainfall_S_Agata  \\\n",
                            "0  01/01/1998                NaN                 NaN               NaN   \n",
                            "1  02/01/1998                NaN                 NaN               NaN   \n",
                            "2  03/01/1998                NaN                 NaN               NaN   \n",
                            "3  04/01/1998                NaN                 NaN               NaN   \n",
                            "4  05/01/1998                NaN                 NaN               NaN   \n",
                            "\n",
                            "   Rainfall_Mangona  Rainfall_S_Piero  Rainfall_Vernio  Rainfall_Stia  \\\n",
                            "0               NaN               NaN              NaN            NaN   \n",
                            "1               NaN               NaN              NaN            NaN   \n",
                            "2               NaN               NaN              NaN            NaN   \n",
                            "3               NaN               NaN              NaN            NaN   \n",
                            "4               NaN               NaN              NaN            NaN   \n",
                            "\n",
                            "   Rainfall_Consuma  Rainfall_Incisa  Rainfall_Montevarchi  Rainfall_S_Savino  \\\n",
                            "0               NaN              NaN                   NaN                NaN   \n",
                            "1               NaN              NaN                   NaN                NaN   \n",
                            "2               NaN              NaN                   NaN                NaN   \n",
                            "3               NaN              NaN                   NaN                NaN   \n",
                            "4               NaN              NaN                   NaN                NaN   \n",
                            "\n",
                            "   Rainfall_Laterina  Rainfall_Bibbiena  Rainfall_Camaldoli  \\\n",
                            "0                NaN                NaN                 NaN   \n",
                            "1                NaN                NaN                 NaN   \n",
                            "2                NaN                NaN                 NaN   \n",
                            "3                NaN                NaN                 NaN   \n",
                            "4                NaN                NaN                 NaN   \n",
                            "\n",
                            "   Temperature_Firenze  Hydrometry_Nave_di_Rosano  \n",
                            "0                  NaN                       1.82  \n",
                            "1                  NaN                       1.94  \n",
                            "2                  NaN                       2.11  \n",
                            "3                  NaN                       1.84  \n",
                            "4                  NaN                       1.88  "
                        ]
                    },
                    "execution_count": 1,
                    "metadata": {},
                    "output_type": "execute_result"
                }
            ],
            "source": [
                "import pandas as pd\n",
                "\n",
                "df = pd.read_csv('../data/raw/River_Arno.csv')\n",
                "df.head()"
            ]
        },
        {
            "cell_type": "code",
            "execution_count": 2,
            "metadata": {},
            "outputs": [
                {
                    "data": {
                        "text/html": [
                            "<div>\n",
                            "<style scoped>\n",
                            "    .dataframe tbody tr th:only-of-type {\n",
                            "        vertical-align: middle;\n",
                            "    }\n",
                            "\n",
                            "    .dataframe tbody tr th {\n",
                            "        vertical-align: top;\n",
                            "    }\n",
                            "\n",
                            "    .dataframe thead th {\n",
                            "        text-align: right;\n",
                            "    }\n",
                            "</style>\n",
                            "<table border=\"1\" class=\"dataframe\">\n",
                            "  <thead>\n",
                            "    <tr style=\"text-align: right;\">\n",
                            "      <th></th>\n",
                            "      <th>Rainfall_Le_Croci</th>\n",
                            "      <th>Rainfall_Cavallina</th>\n",
                            "      <th>Rainfall_S_Agata</th>\n",
                            "      <th>Rainfall_Mangona</th>\n",
                            "      <th>Rainfall_S_Piero</th>\n",
                            "      <th>Rainfall_Vernio</th>\n",
                            "      <th>Rainfall_Stia</th>\n",
                            "      <th>Rainfall_Consuma</th>\n",
                            "      <th>Rainfall_Incisa</th>\n",
                            "      <th>Rainfall_Montevarchi</th>\n",
                            "      <th>Rainfall_S_Savino</th>\n",
                            "      <th>Rainfall_Laterina</th>\n",
                            "      <th>Rainfall_Bibbiena</th>\n",
                            "      <th>Rainfall_Camaldoli</th>\n",
                            "      <th>Temperature_Firenze</th>\n",
                            "      <th>Hydrometry_Nave_di_Rosano</th>\n",
                            "    </tr>\n",
                            "  </thead>\n",
                            "  <tbody>\n",
                            "    <tr>\n",
                            "      <th>count</th>\n",
                            "      <td>6026.000000</td>\n",
                            "      <td>6026.000000</td>\n",
                            "      <td>6026.000000</td>\n",
                            "      <td>6026.000000</td>\n",
                            "      <td>6026.000000</td>\n",
                            "      <td>4283.000000</td>\n",
                            "      <td>1283.000000</td>\n",
                            "      <td>1283.000000</td>\n",
                            "      <td>4568.000000</td>\n",
                            "      <td>1647.000000</td>\n",
                            "      <td>1283.00000</td>\n",
                            "      <td>1283.000000</td>\n",
                            "      <td>2378.000000</td>\n",
                            "      <td>1283.000000</td>\n",
                            "      <td>6192.000000</td>\n",
                            "      <td>8169.000000</td>\n",
                            "    </tr>\n",
                            "    <tr>\n",
                            "      <th>mean</th>\n",
                            "      <td>3.129871</td>\n",
                            "      <td>2.674743</td>\n",
                            "      <td>2.670063</td>\n",
                            "      <td>3.340657</td>\n",
                            "      <td>2.471225</td>\n",
                            "      <td>3.416437</td>\n",
                            "      <td>2.538893</td>\n",
                            "      <td>3.416680</td>\n",
                            "      <td>2.335026</td>\n",
                            "      <td>2.056709</td>\n",
                            "      <td>2.42650</td>\n",
                            "      <td>2.101949</td>\n",
                            "      <td>2.640959</td>\n",
                            "      <td>3.826968</td>\n",
                            "      <td>16.605386</td>\n",
                            "      <td>1.472407</td>\n",
                            "    </tr>\n",
                            "    <tr>\n",
                            "      <th>std</th>\n",
                            "      <td>8.025121</td>\n",
                            "      <td>7.655847</td>\n",
                            "      <td>7.166643</td>\n",
                            "      <td>8.903134</td>\n",
                            "      <td>6.650012</td>\n",
                            "      <td>9.425358</td>\n",
                            "      <td>6.502917</td>\n",
                            "      <td>8.938863</td>\n",
                            "      <td>6.347652</td>\n",
                            "      <td>6.117967</td>\n",
                            "      <td>7.23414</td>\n",
                            "      <td>6.377879</td>\n",
                            "      <td>7.161416</td>\n",
                            "      <td>9.591337</td>\n",
                            "      <td>7.458951</td>\n",
                            "      <td>0.616259</td>\n",
                            "    </tr>\n",
                            "    <tr>\n",
                            "      <th>min</th>\n",
                            "      <td>0.000000</td>\n",
                            "      <td>0.000000</td>\n",
                            "      <td>0.000000</td>\n",
                            "      <td>0.000000</td>\n",
                            "      <td>0.000000</td>\n",
                            "      <td>0.000000</td>\n",
                            "      <td>0.000000</td>\n",
                            "      <td>0.000000</td>\n",
                            "      <td>0.000000</td>\n",
                            "      <td>0.000000</td>\n",
                            "      <td>0.00000</td>\n",
                            "      <td>0.000000</td>\n",
                            "      <td>0.000000</td>\n",
                            "      <td>0.000000</td>\n",
                            "      <td>-2.700000</td>\n",
                            "      <td>0.000000</td>\n",
                            "    </tr>\n",
                            "    <tr>\n",
                            "      <th>25%</th>\n",
                            "      <td>0.000000</td>\n",
                            "      <td>0.000000</td>\n",
                            "      <td>0.000000</td>\n",
                            "      <td>0.000000</td>\n",
                            "      <td>0.000000</td>\n",
                            "      <td>0.000000</td>\n",
                            "      <td>0.000000</td>\n",
                            "      <td>0.000000</td>\n",
                            "      <td>0.000000</td>\n",
                            "      <td>0.000000</td>\n",
                            "      <td>0.00000</td>\n",
                            "      <td>0.000000</td>\n",
                            "      <td>0.000000</td>\n",
                            "      <td>0.000000</td>\n",
                            "      <td>10.650000</td>\n",
                            "      <td>1.100000</td>\n",
                            "    </tr>\n",
                            "    <tr>\n",
                            "      <th>50%</th>\n",
                            "      <td>0.000000</td>\n",
                            "      <td>0.000000</td>\n",
                            "      <td>0.000000</td>\n",
                            "      <td>0.000000</td>\n",
                            "      <td>0.000000</td>\n",
                            "      <td>0.000000</td>\n",
                            "      <td>0.000000</td>\n",
                            "      <td>0.000000</td>\n",
                            "      <td>0.000000</td>\n",
                            "      <td>0.000000</td>\n",
                            "      <td>0.00000</td>\n",
                            "      <td>0.000000</td>\n",
                            "      <td>0.000000</td>\n",
                            "      <td>0.000000</td>\n",
                            "      <td>16.350000</td>\n",
                            "      <td>1.300000</td>\n",
                            "    </tr>\n",
                            "    <tr>\n",
                            "      <th>75%</th>\n",
                            "      <td>1.200000</td>\n",
                            "      <td>0.600000</td>\n",
                            "      <td>1.200000</td>\n",
                            "      <td>1.400000</td>\n",
                            "      <td>0.800000</td>\n",
                            "      <td>1.200000</td>\n",
                            "      <td>1.000000</td>\n",
                            "      <td>2.200000</td>\n",
                            "      <td>0.800000</td>\n",
                            "      <td>0.600000</td>\n",
                            "      <td>0.70000</td>\n",
                            "      <td>0.400000</td>\n",
                            "      <td>1.200000</td>\n",
                            "      <td>2.400000</td>\n",
                            "      <td>22.700000</td>\n",
                            "      <td>1.690000</td>\n",
                            "    </tr>\n",
                            "    <tr>\n",
                            "      <th>max</th>\n",
                            "      <td>88.400000</td>\n",
                            "      <td>113.600000</td>\n",
                            "      <td>120.200000</td>\n",
                            "      <td>110.000000</td>\n",
                            "      <td>80.600000</td>\n",
                            "      <td>126.000000</td>\n",
                            "      <td>63.000000</td>\n",
                            "      <td>114.400000</td>\n",
                            "      <td>102.200000</td>\n",
                            "      <td>75.000000</td>\n",
                            "      <td>123.20000</td>\n",
                            "      <td>95.600000</td>\n",
                            "      <td>77.400000</td>\n",
                            "      <td>103.600000</td>\n",
                            "      <td>34.900000</td>\n",
                            "      <td>6.750000</td>\n",
                            "    </tr>\n",
                            "  </tbody>\n",
                            "</table>\n",
                            "</div>"
                        ],
                        "text/plain": [
                            "       Rainfall_Le_Croci  Rainfall_Cavallina  Rainfall_S_Agata  \\\n",
                            "count        6026.000000         6026.000000       6026.000000   \n",
                            "mean            3.129871            2.674743          2.670063   \n",
                            "std             8.025121            7.655847          7.166643   \n",
                            "min             0.000000            0.000000          0.000000   \n",
                            "25%             0.000000            0.000000          0.000000   \n",
                            "50%             0.000000            0.000000          0.000000   \n",
                            "75%             1.200000            0.600000          1.200000   \n",
                            "max            88.400000          113.600000        120.200000   \n",
                            "\n",
                            "       Rainfall_Mangona  Rainfall_S_Piero  Rainfall_Vernio  Rainfall_Stia  \\\n",
                            "count       6026.000000       6026.000000      4283.000000    1283.000000   \n",
                            "mean           3.340657          2.471225         3.416437       2.538893   \n",
                            "std            8.903134          6.650012         9.425358       6.502917   \n",
                            "min            0.000000          0.000000         0.000000       0.000000   \n",
                            "25%            0.000000          0.000000         0.000000       0.000000   \n",
                            "50%            0.000000          0.000000         0.000000       0.000000   \n",
                            "75%            1.400000          0.800000         1.200000       1.000000   \n",
                            "max          110.000000         80.600000       126.000000      63.000000   \n",
                            "\n",
                            "       Rainfall_Consuma  Rainfall_Incisa  Rainfall_Montevarchi  \\\n",
                            "count       1283.000000      4568.000000           1647.000000   \n",
                            "mean           3.416680         2.335026              2.056709   \n",
                            "std            8.938863         6.347652              6.117967   \n",
                            "min            0.000000         0.000000              0.000000   \n",
                            "25%            0.000000         0.000000              0.000000   \n",
                            "50%            0.000000         0.000000              0.000000   \n",
                            "75%            2.200000         0.800000              0.600000   \n",
                            "max          114.400000       102.200000             75.000000   \n",
                            "\n",
                            "       Rainfall_S_Savino  Rainfall_Laterina  Rainfall_Bibbiena  \\\n",
                            "count         1283.00000        1283.000000        2378.000000   \n",
                            "mean             2.42650           2.101949           2.640959   \n",
                            "std              7.23414           6.377879           7.161416   \n",
                            "min              0.00000           0.000000           0.000000   \n",
                            "25%              0.00000           0.000000           0.000000   \n",
                            "50%              0.00000           0.000000           0.000000   \n",
                            "75%              0.70000           0.400000           1.200000   \n",
                            "max            123.20000          95.600000          77.400000   \n",
                            "\n",
                            "       Rainfall_Camaldoli  Temperature_Firenze  Hydrometry_Nave_di_Rosano  \n",
                            "count         1283.000000          6192.000000                8169.000000  \n",
                            "mean             3.826968            16.605386                   1.472407  \n",
                            "std              9.591337             7.458951                   0.616259  \n",
                            "min              0.000000            -2.700000                   0.000000  \n",
                            "25%              0.000000            10.650000                   1.100000  \n",
                            "50%              0.000000            16.350000                   1.300000  \n",
                            "75%              2.400000            22.700000                   1.690000  \n",
                            "max            103.600000            34.900000                   6.750000  "
                        ]
                    },
                    "execution_count": 2,
                    "metadata": {},
                    "output_type": "execute_result"
                }
            ],
            "source": [
                "df.describe()"
            ]
        },
        {
            "cell_type": "code",
            "execution_count": 3,
            "metadata": {},
            "outputs": [
                {
                    "data": {
                        "text/html": [
                            "<div>\n",
                            "<style scoped>\n",
                            "    .dataframe tbody tr th:only-of-type {\n",
                            "        vertical-align: middle;\n",
                            "    }\n",
                            "\n",
                            "    .dataframe tbody tr th {\n",
                            "        vertical-align: top;\n",
                            "    }\n",
                            "\n",
                            "    .dataframe thead th {\n",
                            "        text-align: right;\n",
                            "    }\n",
                            "</style>\n",
                            "<table border=\"1\" class=\"dataframe\">\n",
                            "  <thead>\n",
                            "    <tr style=\"text-align: right;\">\n",
                            "      <th></th>\n",
                            "      <th>Hyd</th>\n",
                            "    </tr>\n",
                            "    <tr>\n",
                            "      <th>Date</th>\n",
                            "      <th></th>\n",
                            "    </tr>\n",
                            "  </thead>\n",
                            "  <tbody>\n",
                            "    <tr>\n",
                            "      <th>1998-01-01</th>\n",
                            "      <td>1.82</td>\n",
                            "    </tr>\n",
                            "    <tr>\n",
                            "      <th>1998-01-02</th>\n",
                            "      <td>1.94</td>\n",
                            "    </tr>\n",
                            "    <tr>\n",
                            "      <th>1998-01-03</th>\n",
                            "      <td>2.11</td>\n",
                            "    </tr>\n",
                            "    <tr>\n",
                            "      <th>1998-01-04</th>\n",
                            "      <td>1.84</td>\n",
                            "    </tr>\n",
                            "    <tr>\n",
                            "      <th>1998-01-05</th>\n",
                            "      <td>1.88</td>\n",
                            "    </tr>\n",
                            "    <tr>\n",
                            "      <th>...</th>\n",
                            "      <td>...</td>\n",
                            "    </tr>\n",
                            "    <tr>\n",
                            "      <th>2020-06-26</th>\n",
                            "      <td>1.34</td>\n",
                            "    </tr>\n",
                            "    <tr>\n",
                            "      <th>2020-06-27</th>\n",
                            "      <td>1.21</td>\n",
                            "    </tr>\n",
                            "    <tr>\n",
                            "      <th>2020-06-28</th>\n",
                            "      <td>1.30</td>\n",
                            "    </tr>\n",
                            "    <tr>\n",
                            "      <th>2020-06-29</th>\n",
                            "      <td>1.19</td>\n",
                            "    </tr>\n",
                            "    <tr>\n",
                            "      <th>2020-06-30</th>\n",
                            "      <td>1.30</td>\n",
                            "    </tr>\n",
                            "  </tbody>\n",
                            "</table>\n",
                            "<p>8217 rows × 1 columns</p>\n",
                            "</div>"
                        ],
                        "text/plain": [
                            "             Hyd\n",
                            "Date            \n",
                            "1998-01-01  1.82\n",
                            "1998-01-02  1.94\n",
                            "1998-01-03  2.11\n",
                            "1998-01-04  1.84\n",
                            "1998-01-05  1.88\n",
                            "...          ...\n",
                            "2020-06-26  1.34\n",
                            "2020-06-27  1.21\n",
                            "2020-06-28  1.30\n",
                            "2020-06-29  1.19\n",
                            "2020-06-30  1.30\n",
                            "\n",
                            "[8217 rows x 1 columns]"
                        ]
                    },
                    "execution_count": 3,
                    "metadata": {},
                    "output_type": "execute_result"
                }
            ],
            "source": [
                "ts=pd.DataFrame()\n",
                "ts['Date']=pd.to_datetime(df['Date'],format='%d/%m/%Y')\n",
                "ts['Hyd']=df['Hydrometry_Nave_di_Rosano']\n",
                "ts.index=ts['Date']\n",
                "ts.drop(columns='Date',axis=1,inplace=True)\n",
                "\n",
                "ts"
            ]
        },
        {
            "cell_type": "code",
            "execution_count": 4,
            "metadata": {},
            "outputs": [
                {
                    "data": {
                        "text/plain": [
                            "Hyd    48\n",
                            "dtype: int64"
                        ]
                    },
                    "execution_count": 4,
                    "metadata": {},
                    "output_type": "execute_result"
                }
            ],
            "source": [
                "ts.isnull().sum()"
            ]
        },
        {
            "cell_type": "code",
            "execution_count": 5,
            "metadata": {},
            "outputs": [
                {
                    "data": {
                        "text/plain": [
                            "Hyd    0\n",
                            "dtype: int64"
                        ]
                    },
                    "execution_count": 5,
                    "metadata": {},
                    "output_type": "execute_result"
                }
            ],
            "source": [
                "ts.interpolate(method='linear',inplace=True )\n",
                "ts.isnull().sum()"
            ]
        },
        {
            "cell_type": "code",
            "execution_count": 6,
            "metadata": {},
            "outputs": [
                {
                    "name": "stdout",
                    "output_type": "stream",
                    "text": [
                        "Collecting statsmodels\n",
                        "  Downloading statsmodels-0.14.5-cp310-cp310-macosx_11_0_arm64.whl.metadata (9.5 kB)\n",
                        "Requirement already satisfied: numpy<3,>=1.22.3 in /opt/anaconda3/envs/ent_con_arima/lib/python3.10/site-packages (from statsmodels) (1.24.2)\n",
                        "Requirement already satisfied: scipy!=1.9.2,>=1.8 in /opt/anaconda3/envs/ent_con_arima/lib/python3.10/site-packages (from statsmodels) (1.15.3)\n",
                        "Requirement already satisfied: pandas!=2.1.0,>=1.4 in /opt/anaconda3/envs/ent_con_arima/lib/python3.10/site-packages (from statsmodels) (2.3.2)\n",
                        "Collecting patsy>=0.5.6 (from statsmodels)\n",
                        "  Using cached patsy-1.0.1-py2.py3-none-any.whl.metadata (3.3 kB)\n",
                        "Requirement already satisfied: packaging>=21.3 in /opt/anaconda3/envs/ent_con_arima/lib/python3.10/site-packages (from statsmodels) (25.0)\n",
                        "Requirement already satisfied: python-dateutil>=2.8.2 in /opt/anaconda3/envs/ent_con_arima/lib/python3.10/site-packages (from pandas!=2.1.0,>=1.4->statsmodels) (2.9.0.post0)\n",
                        "Requirement already satisfied: pytz>=2020.1 in /opt/anaconda3/envs/ent_con_arima/lib/python3.10/site-packages (from pandas!=2.1.0,>=1.4->statsmodels) (2025.2)\n",
                        "Requirement already satisfied: tzdata>=2022.7 in /opt/anaconda3/envs/ent_con_arima/lib/python3.10/site-packages (from pandas!=2.1.0,>=1.4->statsmodels) (2025.2)\n",
                        "Requirement already satisfied: six>=1.5 in /opt/anaconda3/envs/ent_con_arima/lib/python3.10/site-packages (from python-dateutil>=2.8.2->pandas!=2.1.0,>=1.4->statsmodels) (1.17.0)\n",
                        "Downloading statsmodels-0.14.5-cp310-cp310-macosx_11_0_arm64.whl (9.7 MB)\n",
                        "\u001b[2K   \u001b[90m━━━━━━━━━━━━━━━━━━━━━━━━━━━━━━━━━━━━━━━━\u001b[0m \u001b[32m9.7/9.7 MB\u001b[0m \u001b[31m18.0 MB/s\u001b[0m eta \u001b[36m0:00:00\u001b[0ma \u001b[36m0:00:01\u001b[0m\n",
                        "\u001b[?25hUsing cached patsy-1.0.1-py2.py3-none-any.whl (232 kB)\n",
                        "Installing collected packages: patsy, statsmodels\n",
                        "\u001b[2K   \u001b[90m━━━━━━━━━━━━━━━━━━━━━━━━━━━━━━━━━━━━━━━━\u001b[0m \u001b[32m2/2\u001b[0m [statsmodels]\u001b[0m [statsmodels]\n",
                        "\u001b[1A\u001b[2KSuccessfully installed patsy-1.0.1 statsmodels-0.14.5\n"
                    ]
                }
            ],
            "source": [
                "!pip install statsmodels"
            ]
        },
        {
            "cell_type": "code",
            "execution_count": 7,
            "metadata": {},
            "outputs": [
                {
                    "data": {
                        "image/png": "[encoded data removed]",
                        "text/plain": [
                            "<Figure size 640x480 with 1 Axes>"
                        ]
                    },
                    "metadata": {},
                    "output_type": "display_data"
                }
            ],
            "source": [
                "import matplotlib.pyplot as plt\n",
                "import seaborn as sns\n",
                "from statsmodels.tsa.seasonal import seasonal_decompose\n",
                "\n",
                "decomp = seasonal_decompose(ts,period=365)\n",
                "trend = decomp.trend\n",
                "seasonal = decomp.seasonal\n",
                "\n",
                "sns.lineplot(data=ts, x=ts.index ,y='Hyd', label=\"Hidrometria\")\n",
                "sns.lineplot(data=trend, label=\"Tendencia\")\n",
                "sns.lineplot(data=seasonal, label=\"Estacionalidad\")\n",
                "plt.tight_layout()\n",
                "plt.show()  "
            ]
        },
        {
            "cell_type": "code",
            "execution_count": 8,
            "metadata": {},
            "outputs": [
                {
                    "name": "stdout",
                    "output_type": "stream",
                    "text": [
                        "Resultados de la prueba de Dickey-Fuller:\n"
                    ]
                },
                {
                    "data": {
                        "text/plain": [
                            "Test Statistic                -7.825536e+00\n",
                            "p-value                        6.496928e-12\n",
                            "#Lags Used                     3.700000e+01\n",
                            "Number of Observations Used    8.179000e+03\n",
                            "Critical Value (1%)           -3.431150e+00\n",
                            "Critical Value (5%)           -2.861893e+00\n",
                            "Critical Value (10%)          -2.566958e+00\n",
                            "dtype: float64"
                        ]
                    },
                    "execution_count": 8,
                    "metadata": {},
                    "output_type": "execute_result"
                }
            ],
            "source": [
                "from statsmodels.tsa.stattools import adfuller\n",
                "\n",
                "def test_stationarity(timeseries):\n",
                "    print(\"Resultados de la prueba de Dickey-Fuller:\")\n",
                "    dftest = adfuller(timeseries, autolag = \"AIC\")\n",
                "    dfoutput = pd.Series(dftest[0:4], index = [\"Test Statistic\", \"p-value\", \"#Lags Used\", \"Number of Observations Used\"])\n",
                "    for key,value in dftest[4].items():\n",
                "        dfoutput[\"Critical Value (%s)\"%key] = value\n",
                "    return dfoutput\n",
                "\n",
                "test_stationarity(ts)"
            ]
        },
        {
            "cell_type": "code",
            "execution_count": 9,
            "metadata": {},
            "outputs": [
                {
                    "data": {
                        "image/png": "[encoded data removed]",
                        "text/plain": [
                            "<Figure size 640x480 with 1 Axes>"
                        ]
                    },
                    "metadata": {},
                    "output_type": "display_data"
                }
            ],
            "source": [
                "from statsmodels.graphics.tsaplots import plot_acf\n",
                "\n",
                "plot_acf(ts)\n",
                "plt.tight_layout()\n",
                "plt.show()"
            ]
        },
        {
            "cell_type": "code",
            "execution_count": 12,
            "metadata": {},
            "outputs": [
                {
                    "name": "stderr",
                    "output_type": "stream",
                    "text": [
                        "/opt/anaconda3/envs/ent_con_arima/lib/python3.10/site-packages/sklearn/utils/deprecation.py:132: FutureWarning: 'force_all_finite' was renamed to 'ensure_all_finite' in 1.6 and will be removed in 1.8.\n",
                        "  warnings.warn(\n",
                        "/opt/anaconda3/envs/ent_con_arima/lib/python3.10/site-packages/sklearn/utils/deprecation.py:132: FutureWarning: 'force_all_finite' was renamed to 'ensure_all_finite' in 1.6 and will be removed in 1.8.\n",
                        "  warnings.warn(\n",
                        "/opt/anaconda3/envs/ent_con_arima/lib/python3.10/site-packages/sklearn/utils/deprecation.py:132: FutureWarning: 'force_all_finite' was renamed to 'ensure_all_finite' in 1.6 and will be removed in 1.8.\n",
                        "  warnings.warn(\n",
                        "/opt/anaconda3/envs/ent_con_arima/lib/python3.10/site-packages/sklearn/utils/deprecation.py:132: FutureWarning: 'force_all_finite' was renamed to 'ensure_all_finite' in 1.6 and will be removed in 1.8.\n",
                        "  warnings.warn(\n",
                        "/opt/anaconda3/envs/ent_con_arima/lib/python3.10/site-packages/sklearn/utils/deprecation.py:132: FutureWarning: 'force_all_finite' was renamed to 'ensure_all_finite' in 1.6 and will be removed in 1.8.\n",
                        "  warnings.warn(\n",
                        "/opt/anaconda3/envs/ent_con_arima/lib/python3.10/site-packages/sklearn/utils/deprecation.py:132: FutureWarning: 'force_all_finite' was renamed to 'ensure_all_finite' in 1.6 and will be removed in 1.8.\n",
                        "  warnings.warn(\n",
                        "/opt/anaconda3/envs/ent_con_arima/lib/python3.10/site-packages/sklearn/utils/deprecation.py:132: FutureWarning: 'force_all_finite' was renamed to 'ensure_all_finite' in 1.6 and will be removed in 1.8.\n",
                        "  warnings.warn(\n",
                        "/opt/anaconda3/envs/ent_con_arima/lib/python3.10/site-packages/sklearn/utils/deprecation.py:132: FutureWarning: 'force_all_finite' was renamed to 'ensure_all_finite' in 1.6 and will be removed in 1.8.\n",
                        "  warnings.warn(\n",
                        "/opt/anaconda3/envs/ent_con_arima/lib/python3.10/site-packages/sklearn/utils/deprecation.py:132: FutureWarning: 'force_all_finite' was renamed to 'ensure_all_finite' in 1.6 and will be removed in 1.8.\n",
                        "  warnings.warn(\n",
                        "/opt/anaconda3/envs/ent_con_arima/lib/python3.10/site-packages/sklearn/utils/deprecation.py:132: FutureWarning: 'force_all_finite' was renamed to 'ensure_all_finite' in 1.6 and will be removed in 1.8.\n",
                        "  warnings.warn(\n",
                        "/opt/anaconda3/envs/ent_con_arima/lib/python3.10/site-packages/sklearn/utils/deprecation.py:132: FutureWarning: 'force_all_finite' was renamed to 'ensure_all_finite' in 1.6 and will be removed in 1.8.\n",
                        "  warnings.warn(\n"
                    ]
                },
                {
                    "name": "stdout",
                    "output_type": "stream",
                    "text": [
                        "Performing stepwise search to minimize aic\n",
                        " ARIMA(2,1,2)(1,0,1)[3] intercept   : AIC=2130.301, Time=3.10 sec\n",
                        " ARIMA(0,1,0)(0,0,0)[3] intercept   : AIC=2914.101, Time=0.16 sec\n"
                    ]
                },
                {
                    "name": "stderr",
                    "output_type": "stream",
                    "text": [
                        "/opt/anaconda3/envs/ent_con_arima/lib/python3.10/site-packages/sklearn/utils/deprecation.py:132: FutureWarning: 'force_all_finite' was renamed to 'ensure_all_finite' in 1.6 and will be removed in 1.8.\n",
                        "  warnings.warn(\n",
                        "/opt/anaconda3/envs/ent_con_arima/lib/python3.10/site-packages/sklearn/utils/deprecation.py:132: FutureWarning: 'force_all_finite' was renamed to 'ensure_all_finite' in 1.6 and will be removed in 1.8.\n",
                        "  warnings.warn(\n"
                    ]
                },
                {
                    "name": "stdout",
                    "output_type": "stream",
                    "text": [
                        " ARIMA(1,1,0)(1,0,0)[3] intercept   : AIC=2816.290, Time=0.42 sec\n"
                    ]
                },
                {
                    "name": "stderr",
                    "output_type": "stream",
                    "text": [
                        "/opt/anaconda3/envs/ent_con_arima/lib/python3.10/site-packages/sklearn/utils/deprecation.py:132: FutureWarning: 'force_all_finite' was renamed to 'ensure_all_finite' in 1.6 and will be removed in 1.8.\n",
                        "  warnings.warn(\n"
                    ]
                },
                {
                    "name": "stdout",
                    "output_type": "stream",
                    "text": [
                        " ARIMA(0,1,1)(0,0,1)[3] intercept   : AIC=2796.251, Time=0.51 sec\n"
                    ]
                },
                {
                    "name": "stderr",
                    "output_type": "stream",
                    "text": [
                        "/opt/anaconda3/envs/ent_con_arima/lib/python3.10/site-packages/sklearn/utils/deprecation.py:132: FutureWarning: 'force_all_finite' was renamed to 'ensure_all_finite' in 1.6 and will be removed in 1.8.\n",
                        "  warnings.warn(\n"
                    ]
                },
                {
                    "name": "stdout",
                    "output_type": "stream",
                    "text": [
                        " ARIMA(0,1,0)(0,0,0)[3]             : AIC=2912.102, Time=0.21 sec\n"
                    ]
                },
                {
                    "name": "stderr",
                    "output_type": "stream",
                    "text": [
                        "/opt/anaconda3/envs/ent_con_arima/lib/python3.10/site-packages/sklearn/utils/deprecation.py:132: FutureWarning: 'force_all_finite' was renamed to 'ensure_all_finite' in 1.6 and will be removed in 1.8.\n",
                        "  warnings.warn(\n"
                    ]
                },
                {
                    "name": "stdout",
                    "output_type": "stream",
                    "text": [
                        " ARIMA(2,1,2)(0,0,1)[3] intercept   : AIC=2110.519, Time=2.87 sec\n"
                    ]
                },
                {
                    "name": "stderr",
                    "output_type": "stream",
                    "text": [
                        "/opt/anaconda3/envs/ent_con_arima/lib/python3.10/site-packages/sklearn/utils/deprecation.py:132: FutureWarning: 'force_all_finite' was renamed to 'ensure_all_finite' in 1.6 and will be removed in 1.8.\n",
                        "  warnings.warn(\n"
                    ]
                },
                {
                    "name": "stdout",
                    "output_type": "stream",
                    "text": [
                        " ARIMA(2,1,2)(0,0,0)[3] intercept   : AIC=2108.485, Time=1.64 sec\n"
                    ]
                },
                {
                    "name": "stderr",
                    "output_type": "stream",
                    "text": [
                        "/opt/anaconda3/envs/ent_con_arima/lib/python3.10/site-packages/sklearn/utils/deprecation.py:132: FutureWarning: 'force_all_finite' was renamed to 'ensure_all_finite' in 1.6 and will be removed in 1.8.\n",
                        "  warnings.warn(\n"
                    ]
                },
                {
                    "name": "stdout",
                    "output_type": "stream",
                    "text": [
                        " ARIMA(2,1,2)(1,0,0)[3] intercept   : AIC=2110.520, Time=2.26 sec\n"
                    ]
                },
                {
                    "name": "stderr",
                    "output_type": "stream",
                    "text": [
                        "/opt/anaconda3/envs/ent_con_arima/lib/python3.10/site-packages/sklearn/utils/deprecation.py:132: FutureWarning: 'force_all_finite' was renamed to 'ensure_all_finite' in 1.6 and will be removed in 1.8.\n",
                        "  warnings.warn(\n"
                    ]
                },
                {
                    "name": "stdout",
                    "output_type": "stream",
                    "text": [
                        " ARIMA(1,1,2)(0,0,0)[3] intercept   : AIC=2106.713, Time=1.14 sec\n"
                    ]
                },
                {
                    "name": "stderr",
                    "output_type": "stream",
                    "text": [
                        "/opt/anaconda3/envs/ent_con_arima/lib/python3.10/site-packages/sklearn/utils/deprecation.py:132: FutureWarning: 'force_all_finite' was renamed to 'ensure_all_finite' in 1.6 and will be removed in 1.8.\n",
                        "  warnings.warn(\n"
                    ]
                },
                {
                    "name": "stdout",
                    "output_type": "stream",
                    "text": [
                        " ARIMA(1,1,2)(1,0,0)[3] intercept   : AIC=2108.278, Time=1.66 sec\n"
                    ]
                },
                {
                    "name": "stderr",
                    "output_type": "stream",
                    "text": [
                        "/opt/anaconda3/envs/ent_con_arima/lib/python3.10/site-packages/sklearn/utils/deprecation.py:132: FutureWarning: 'force_all_finite' was renamed to 'ensure_all_finite' in 1.6 and will be removed in 1.8.\n",
                        "  warnings.warn(\n"
                    ]
                },
                {
                    "name": "stdout",
                    "output_type": "stream",
                    "text": [
                        " ARIMA(1,1,2)(0,0,1)[3] intercept   : AIC=2108.278, Time=2.09 sec\n"
                    ]
                },
                {
                    "name": "stderr",
                    "output_type": "stream",
                    "text": [
                        "/opt/anaconda3/envs/ent_con_arima/lib/python3.10/site-packages/sklearn/utils/deprecation.py:132: FutureWarning: 'force_all_finite' was renamed to 'ensure_all_finite' in 1.6 and will be removed in 1.8.\n",
                        "  warnings.warn(\n"
                    ]
                },
                {
                    "name": "stdout",
                    "output_type": "stream",
                    "text": [
                        " ARIMA(1,1,2)(1,0,1)[3] intercept   : AIC=2110.378, Time=2.15 sec\n"
                    ]
                },
                {
                    "name": "stderr",
                    "output_type": "stream",
                    "text": [
                        "/opt/anaconda3/envs/ent_con_arima/lib/python3.10/site-packages/sklearn/utils/deprecation.py:132: FutureWarning: 'force_all_finite' was renamed to 'ensure_all_finite' in 1.6 and will be removed in 1.8.\n",
                        "  warnings.warn(\n"
                    ]
                },
                {
                    "name": "stdout",
                    "output_type": "stream",
                    "text": [
                        " ARIMA(0,1,2)(0,0,0)[3] intercept   : AIC=2534.854, Time=0.57 sec\n"
                    ]
                },
                {
                    "name": "stderr",
                    "output_type": "stream",
                    "text": [
                        "/opt/anaconda3/envs/ent_con_arima/lib/python3.10/site-packages/sklearn/utils/deprecation.py:132: FutureWarning: 'force_all_finite' was renamed to 'ensure_all_finite' in 1.6 and will be removed in 1.8.\n",
                        "  warnings.warn(\n"
                    ]
                },
                {
                    "name": "stdout",
                    "output_type": "stream",
                    "text": [
                        " ARIMA(1,1,1)(0,0,0)[3] intercept   : AIC=2247.525, Time=1.05 sec\n"
                    ]
                },
                {
                    "name": "stderr",
                    "output_type": "stream",
                    "text": [
                        "/opt/anaconda3/envs/ent_con_arima/lib/python3.10/site-packages/sklearn/utils/deprecation.py:132: FutureWarning: 'force_all_finite' was renamed to 'ensure_all_finite' in 1.6 and will be removed in 1.8.\n",
                        "  warnings.warn(\n"
                    ]
                },
                {
                    "name": "stdout",
                    "output_type": "stream",
                    "text": [
                        " ARIMA(0,1,1)(0,0,0)[3] intercept   : AIC=2912.583, Time=0.34 sec\n"
                    ]
                },
                {
                    "name": "stderr",
                    "output_type": "stream",
                    "text": [
                        "/opt/anaconda3/envs/ent_con_arima/lib/python3.10/site-packages/sklearn/utils/deprecation.py:132: FutureWarning: 'force_all_finite' was renamed to 'ensure_all_finite' in 1.6 and will be removed in 1.8.\n",
                        "  warnings.warn(\n"
                    ]
                },
                {
                    "name": "stdout",
                    "output_type": "stream",
                    "text": [
                        " ARIMA(2,1,1)(0,0,0)[3] intercept   : AIC=2112.645, Time=1.02 sec\n"
                    ]
                },
                {
                    "name": "stderr",
                    "output_type": "stream",
                    "text": [
                        "/opt/anaconda3/envs/ent_con_arima/lib/python3.10/site-packages/sklearn/utils/deprecation.py:132: FutureWarning: 'force_all_finite' was renamed to 'ensure_all_finite' in 1.6 and will be removed in 1.8.\n",
                        "  warnings.warn(\n"
                    ]
                },
                {
                    "name": "stdout",
                    "output_type": "stream",
                    "text": [
                        " ARIMA(1,1,2)(0,0,0)[3]             : AIC=2104.717, Time=0.49 sec\n"
                    ]
                },
                {
                    "name": "stderr",
                    "output_type": "stream",
                    "text": [
                        "/opt/anaconda3/envs/ent_con_arima/lib/python3.10/site-packages/sklearn/utils/deprecation.py:132: FutureWarning: 'force_all_finite' was renamed to 'ensure_all_finite' in 1.6 and will be removed in 1.8.\n",
                        "  warnings.warn(\n"
                    ]
                },
                {
                    "name": "stdout",
                    "output_type": "stream",
                    "text": [
                        " ARIMA(1,1,2)(1,0,0)[3]             : AIC=2106.282, Time=0.66 sec\n"
                    ]
                },
                {
                    "name": "stderr",
                    "output_type": "stream",
                    "text": [
                        "/opt/anaconda3/envs/ent_con_arima/lib/python3.10/site-packages/sklearn/utils/deprecation.py:132: FutureWarning: 'force_all_finite' was renamed to 'ensure_all_finite' in 1.6 and will be removed in 1.8.\n",
                        "  warnings.warn(\n"
                    ]
                },
                {
                    "name": "stdout",
                    "output_type": "stream",
                    "text": [
                        " ARIMA(1,1,2)(0,0,1)[3]             : AIC=2106.282, Time=0.75 sec\n"
                    ]
                },
                {
                    "name": "stderr",
                    "output_type": "stream",
                    "text": [
                        "/opt/anaconda3/envs/ent_con_arima/lib/python3.10/site-packages/sklearn/utils/deprecation.py:132: FutureWarning: 'force_all_finite' was renamed to 'ensure_all_finite' in 1.6 and will be removed in 1.8.\n",
                        "  warnings.warn(\n"
                    ]
                },
                {
                    "name": "stdout",
                    "output_type": "stream",
                    "text": [
                        " ARIMA(1,1,2)(1,0,1)[3]             : AIC=2108.389, Time=0.83 sec\n",
                        " ARIMA(0,1,2)(0,0,0)[3]             : AIC=2532.856, Time=0.21 sec\n"
                    ]
                },
                {
                    "name": "stderr",
                    "output_type": "stream",
                    "text": [
                        "/opt/anaconda3/envs/ent_con_arima/lib/python3.10/site-packages/sklearn/utils/deprecation.py:132: FutureWarning: 'force_all_finite' was renamed to 'ensure_all_finite' in 1.6 and will be removed in 1.8.\n",
                        "  warnings.warn(\n",
                        "/opt/anaconda3/envs/ent_con_arima/lib/python3.10/site-packages/sklearn/utils/deprecation.py:132: FutureWarning: 'force_all_finite' was renamed to 'ensure_all_finite' in 1.6 and will be removed in 1.8.\n",
                        "  warnings.warn(\n"
                    ]
                },
                {
                    "name": "stdout",
                    "output_type": "stream",
                    "text": [
                        " ARIMA(1,1,1)(0,0,0)[3]             : AIC=2245.530, Time=0.33 sec\n"
                    ]
                },
                {
                    "name": "stderr",
                    "output_type": "stream",
                    "text": [
                        "/opt/anaconda3/envs/ent_con_arima/lib/python3.10/site-packages/sklearn/utils/deprecation.py:132: FutureWarning: 'force_all_finite' was renamed to 'ensure_all_finite' in 1.6 and will be removed in 1.8.\n",
                        "  warnings.warn(\n"
                    ]
                },
                {
                    "name": "stdout",
                    "output_type": "stream",
                    "text": [
                        " ARIMA(2,1,2)(0,0,0)[3]             : AIC=2106.488, Time=0.50 sec\n"
                    ]
                },
                {
                    "name": "stderr",
                    "output_type": "stream",
                    "text": [
                        "/opt/anaconda3/envs/ent_con_arima/lib/python3.10/site-packages/sklearn/utils/deprecation.py:132: FutureWarning: 'force_all_finite' was renamed to 'ensure_all_finite' in 1.6 and will be removed in 1.8.\n",
                        "  warnings.warn(\n"
                    ]
                },
                {
                    "name": "stdout",
                    "output_type": "stream",
                    "text": [
                        " ARIMA(0,1,1)(0,0,0)[3]             : AIC=2910.583, Time=0.31 sec\n"
                    ]
                },
                {
                    "name": "stderr",
                    "output_type": "stream",
                    "text": [
                        "/opt/anaconda3/envs/ent_con_arima/lib/python3.10/site-packages/sklearn/utils/deprecation.py:132: FutureWarning: 'force_all_finite' was renamed to 'ensure_all_finite' in 1.6 and will be removed in 1.8.\n",
                        "  warnings.warn(\n"
                    ]
                },
                {
                    "name": "stdout",
                    "output_type": "stream",
                    "text": [
                        " ARIMA(2,1,1)(0,0,0)[3]             : AIC=2110.649, Time=0.41 sec\n",
                        "\n",
                        "Best model:  ARIMA(1,1,2)(0,0,0)[3]          \n",
                        "Total fit time: 25.710 seconds\n"
                    ]
                }
            ],
            "source": [
                "from pmdarima import auto_arima\n",
                "\n",
                "model = auto_arima(ts, seasonal=True, m=3, trace=True)"
            ]
        },
        {
            "cell_type": "code",
            "execution_count": 16,
            "metadata": {},
            "outputs": [
                {
                    "data": {
                        "text/html": [
                            "<table class=\"simpletable\">\n",
                            "<caption>SARIMAX Results</caption>\n",
                            "<tr>\n",
                            "  <th>Dep. Variable:</th>           <td>y</td>        <th>  No. Observations:  </th>   <td>8217</td>   \n",
                            "</tr>\n",
                            "<tr>\n",
                            "  <th>Model:</th>           <td>SARIMAX(1, 1, 2)</td> <th>  Log Likelihood     </th> <td>-1048.359</td>\n",
                            "</tr>\n",
                            "<tr>\n",
                            "  <th>Date:</th>            <td>Sun, 24 Aug 2025</td> <th>  AIC                </th> <td>2104.717</td> \n",
                            "</tr>\n",
                            "<tr>\n",
                            "  <th>Time:</th>                <td>13:07:40</td>     <th>  BIC                </th> <td>2132.773</td> \n",
                            "</tr>\n",
                            "<tr>\n",
                            "  <th>Sample:</th>             <td>01-01-1998</td>    <th>  HQIC               </th> <td>2114.308</td> \n",
                            "</tr>\n",
                            "<tr>\n",
                            "  <th></th>                   <td>- 06-30-2020</td>   <th>                     </th>     <td> </td>    \n",
                            "</tr>\n",
                            "<tr>\n",
                            "  <th>Covariance Type:</th>        <td>opg</td>       <th>                     </th>     <td> </td>    \n",
                            "</tr>\n",
                            "</table>\n",
                            "<table class=\"simpletable\">\n",
                            "<tr>\n",
                            "     <td></td>       <th>coef</th>     <th>std err</th>      <th>z</th>      <th>P>|z|</th>  <th>[0.025</th>    <th>0.975]</th>  \n",
                            "</tr>\n",
                            "<tr>\n",
                            "  <th>ar.L1</th>  <td>    0.6222</td> <td>    0.010</td> <td>   64.259</td> <td> 0.000</td> <td>    0.603</td> <td>    0.641</td>\n",
                            "</tr>\n",
                            "<tr>\n",
                            "  <th>ma.L1</th>  <td>   -0.7225</td> <td>    0.009</td> <td>  -78.190</td> <td> 0.000</td> <td>   -0.741</td> <td>   -0.704</td>\n",
                            "</tr>\n",
                            "<tr>\n",
                            "  <th>ma.L2</th>  <td>   -0.1780</td> <td>    0.006</td> <td>  -32.090</td> <td> 0.000</td> <td>   -0.189</td> <td>   -0.167</td>\n",
                            "</tr>\n",
                            "<tr>\n",
                            "  <th>sigma2</th> <td>    0.0756</td> <td>    0.000</td> <td>  297.728</td> <td> 0.000</td> <td>    0.075</td> <td>    0.076</td>\n",
                            "</tr>\n",
                            "</table>\n",
                            "<table class=\"simpletable\">\n",
                            "<tr>\n",
                            "  <th>Ljung-Box (L1) (Q):</th>     <td>0.00</td> <th>  Jarque-Bera (JB):  </th> <td>673373.43</td>\n",
                            "</tr>\n",
                            "<tr>\n",
                            "  <th>Prob(Q):</th>                <td>0.96</td> <th>  Prob(JB):          </th>   <td>0.00</td>   \n",
                            "</tr>\n",
                            "<tr>\n",
                            "  <th>Heteroskedasticity (H):</th> <td>1.48</td> <th>  Skew:              </th>   <td>4.13</td>   \n",
                            "</tr>\n",
                            "<tr>\n",
                            "  <th>Prob(H) (two-sided):</th>    <td>0.00</td> <th>  Kurtosis:          </th>   <td>46.58</td>  \n",
                            "</tr>\n",
                            "</table><br/><br/>Warnings:<br/>[1] Covariance matrix calculated using the outer product of gradients (complex-step)."
                        ],
                        "text/latex": [
                            "\\begin{center}\n",
                            "\\begin{tabular}{lclc}\n",
                            "\\toprule\n",
                            "\\textbf{Dep. Variable:}          &        y         & \\textbf{  No. Observations:  } &    8217     \\\\\n",
                            "\\textbf{Model:}                  & SARIMAX(1, 1, 2) & \\textbf{  Log Likelihood     } & -1048.359   \\\\\n",
                            "\\textbf{Date:}                   & Sun, 24 Aug 2025 & \\textbf{  AIC                } &  2104.717   \\\\\n",
                            "\\textbf{Time:}                   &     13:07:40     & \\textbf{  BIC                } &  2132.773   \\\\\n",
                            "\\textbf{Sample:}                 &    01-01-1998    & \\textbf{  HQIC               } &  2114.308   \\\\\n",
                            "\\textbf{}                        &   - 06-30-2020   & \\textbf{                     } &             \\\\\n",
                            "\\textbf{Covariance Type:}        &       opg        & \\textbf{                     } &             \\\\\n",
                            "\\bottomrule\n",
                            "\\end{tabular}\n",
                            "\\begin{tabular}{lcccccc}\n",
                            "                & \\textbf{coef} & \\textbf{std err} & \\textbf{z} & \\textbf{P$> |$z$|$} & \\textbf{[0.025} & \\textbf{0.975]}  \\\\\n",
                            "\\midrule\n",
                            "\\textbf{ar.L1}  &       0.6222  &        0.010     &    64.259  &         0.000        &        0.603    &        0.641     \\\\\n",
                            "\\textbf{ma.L1}  &      -0.7225  &        0.009     &   -78.190  &         0.000        &       -0.741    &       -0.704     \\\\\n",
                            "\\textbf{ma.L2}  &      -0.1780  &        0.006     &   -32.090  &         0.000        &       -0.189    &       -0.167     \\\\\n",
                            "\\textbf{sigma2} &       0.0756  &        0.000     &   297.728  &         0.000        &        0.075    &        0.076     \\\\\n",
                            "\\bottomrule\n",
                            "\\end{tabular}\n",
                            "\\begin{tabular}{lclc}\n",
                            "\\textbf{Ljung-Box (L1) (Q):}     & 0.00 & \\textbf{  Jarque-Bera (JB):  } & 673373.43  \\\\\n",
                            "\\textbf{Prob(Q):}                & 0.96 & \\textbf{  Prob(JB):          } &    0.00    \\\\\n",
                            "\\textbf{Heteroskedasticity (H):} & 1.48 & \\textbf{  Skew:              } &    4.13    \\\\\n",
                            "\\textbf{Prob(H) (two-sided):}    & 0.00 & \\textbf{  Kurtosis:          } &   46.58    \\\\\n",
                            "\\bottomrule\n",
                            "\\end{tabular}\n",
                            "%\\caption{SARIMAX Results}\n",
                            "\\end{center}\n",
                            "\n",
                            "Warnings: \\newline\n",
                            " [1] Covariance matrix calculated using the outer product of gradients (complex-step)."
                        ],
                        "text/plain": [
                            "<class 'statsmodels.iolib.summary.Summary'>\n",
                            "\"\"\"\n",
                            "                               SARIMAX Results                                \n",
                            "==============================================================================\n",
                            "Dep. Variable:                      y   No. Observations:                 8217\n",
                            "Model:               SARIMAX(1, 1, 2)   Log Likelihood               -1048.359\n",
                            "Date:                Sun, 24 Aug 2025   AIC                           2104.717\n",
                            "Time:                        13:07:40   BIC                           2132.773\n",
                            "Sample:                    01-01-1998   HQIC                          2114.308\n",
                            "                         - 06-30-2020                                         \n",
                            "Covariance Type:                  opg                                         \n",
                            "==============================================================================\n",
                            "                 coef    std err          z      P>|z|      [0.025      0.975]\n",
                            "------------------------------------------------------------------------------\n",
                            "ar.L1          0.6222      0.010     64.259      0.000       0.603       0.641\n",
                            "ma.L1         -0.7225      0.009    -78.190      0.000      -0.741      -0.704\n",
                            "ma.L2         -0.1780      0.006    -32.090      0.000      -0.189      -0.167\n",
                            "sigma2         0.0756      0.000    297.728      0.000       0.075       0.076\n",
                            "===================================================================================\n",
                            "Ljung-Box (L1) (Q):                   0.00   Jarque-Bera (JB):            673373.43\n",
                            "Prob(Q):                              0.96   Prob(JB):                         0.00\n",
                            "Heteroskedasticity (H):               1.48   Skew:                             4.13\n",
                            "Prob(H) (two-sided):                  0.00   Kurtosis:                        46.58\n",
                            "===================================================================================\n",
                            "\n",
                            "Warnings:\n",
                            "[1] Covariance matrix calculated using the outer product of gradients (complex-step).\n",
                            "\"\"\""
                        ]
                    },
                    "execution_count": 16,
                    "metadata": {},
                    "output_type": "execute_result"
                }
            ],
            "source": [
                "model.summary()"
            ]
        },
        {
            "cell_type": "code",
            "execution_count": 18,
            "metadata": {},
            "outputs": [
                {
                    "name": "stderr",
                    "output_type": "stream",
                    "text": [
                        "/opt/anaconda3/envs/ent_con_arima/lib/python3.10/site-packages/sklearn/utils/deprecation.py:132: FutureWarning: 'force_all_finite' was renamed to 'ensure_all_finite' in 1.6 and will be removed in 1.8.\n",
                        "  warnings.warn(\n"
                    ]
                },
                {
                    "data": {
                        "text/plain": [
                            "2020-07-01    1.348385\n",
                            "2020-07-02    1.366374\n",
                            "2020-07-03    1.377566\n",
                            "2020-07-04    1.384529\n",
                            "2020-07-05    1.388861\n",
                            "                ...   \n",
                            "2021-06-26    1.395995\n",
                            "2021-06-27    1.395995\n",
                            "2021-06-28    1.395995\n",
                            "2021-06-29    1.395995\n",
                            "2021-06-30    1.395995\n",
                            "Freq: D, Length: 365, dtype: float64"
                        ]
                    },
                    "execution_count": 18,
                    "metadata": {},
                    "output_type": "execute_result"
                }
            ],
            "source": [
                "forcast = model.predict(n_periods=365)\n",
                "forcast"
            ]
        },
        {
            "cell_type": "code",
            "execution_count": 19,
            "metadata": {},
            "outputs": [
                {
                    "data": {
                        "image/png": "[encoded data removed]",
                        "text/plain": [
                            "<Figure size 640x480 with 1 Axes>"
                        ]
                    },
                    "metadata": {},
                    "output_type": "display_data"
                }
            ],
            "source": [
                "sns.lineplot(data=ts)\n",
                "sns.lineplot(data=forcast)\n",
                "plt.tight_layout()\n",
                "plt.show()"
            ]
        },
        {
            "cell_type": "code",
            "execution_count": 20,
            "metadata": {},
            "outputs": [
                {
                    "name": "stdout",
                    "output_type": "stream",
                    "text": [
                        "Collecting neuralprophet\n",
                        "  Downloading neuralprophet-0.9.0-py3-none-any.whl.metadata (9.0 kB)\n",
                        "Collecting captum>=0.6.0 (from neuralprophet)\n",
                        "  Downloading captum-0.8.0-py3-none-any.whl.metadata (26 kB)\n",
                        "Collecting holidays>=0.41 (from neuralprophet)\n",
                        "  Downloading holidays-0.79-py3-none-any.whl.metadata (47 kB)\n",
                        "Collecting kaleido==0.2.1 (from neuralprophet)\n",
                        "  Downloading kaleido-0.2.1-py2.py3-none-macosx_11_0_arm64.whl.metadata (15 kB)\n",
                        "Requirement already satisfied: matplotlib>=3.5.3 in /opt/anaconda3/envs/ent_con_arima/lib/python3.10/site-packages (from neuralprophet) (3.10.5)\n",
                        "Collecting numpy<2.0.0,>=1.25.0 (from neuralprophet)\n",
                        "  Downloading numpy-1.26.4-cp310-cp310-macosx_11_0_arm64.whl.metadata (61 kB)\n",
                        "Requirement already satisfied: pandas>=2.0.0 in /opt/anaconda3/envs/ent_con_arima/lib/python3.10/site-packages (from neuralprophet) (2.3.2)\n",
                        "Collecting plotly>=5.13.1 (from neuralprophet)\n",
                        "  Downloading plotly-6.3.0-py3-none-any.whl.metadata (8.5 kB)\n",
                        "Collecting pytorch-lightning>=2.0.0 (from neuralprophet)\n",
                        "  Downloading pytorch_lightning-2.5.3-py3-none-any.whl.metadata (20 kB)\n",
                        "Collecting tensorboard>=2.11.2 (from neuralprophet)\n",
                        "  Downloading tensorboard-2.20.0-py3-none-any.whl.metadata (1.8 kB)\n",
                        "Collecting torch>=2.0.0 (from neuralprophet)\n",
                        "  Downloading torch-2.8.0-cp310-none-macosx_11_0_arm64.whl.metadata (30 kB)\n",
                        "Collecting torchmetrics>=1.0.0 (from neuralprophet)\n",
                        "  Downloading torchmetrics-1.8.1-py3-none-any.whl.metadata (22 kB)\n",
                        "Requirement already satisfied: typing-extensions>=4.5.0 in /opt/anaconda3/envs/ent_con_arima/lib/python3.10/site-packages (from neuralprophet) (4.14.1)\n",
                        "Requirement already satisfied: packaging in /opt/anaconda3/envs/ent_con_arima/lib/python3.10/site-packages (from captum>=0.6.0->neuralprophet) (25.0)\n",
                        "Collecting tqdm (from captum>=0.6.0->neuralprophet)\n",
                        "  Using cached tqdm-4.67.1-py3-none-any.whl.metadata (57 kB)\n",
                        "Requirement already satisfied: python-dateutil in /opt/anaconda3/envs/ent_con_arima/lib/python3.10/site-packages (from holidays>=0.41->neuralprophet) (2.9.0.post0)\n",
                        "Requirement already satisfied: contourpy>=1.0.1 in /opt/anaconda3/envs/ent_con_arima/lib/python3.10/site-packages (from matplotlib>=3.5.3->neuralprophet) (1.3.2)\n",
                        "Requirement already satisfied: cycler>=0.10 in /opt/anaconda3/envs/ent_con_arima/lib/python3.10/site-packages (from matplotlib>=3.5.3->neuralprophet) (0.12.1)\n",
                        "Requirement already satisfied: fonttools>=4.22.0 in /opt/anaconda3/envs/ent_con_arima/lib/python3.10/site-packages (from matplotlib>=3.5.3->neuralprophet) (4.59.1)\n",
                        "Requirement already satisfied: kiwisolver>=1.3.1 in /opt/anaconda3/envs/ent_con_arima/lib/python3.10/site-packages (from matplotlib>=3.5.3->neuralprophet) (1.4.9)\n",
                        "Requirement already satisfied: pillow>=8 in /opt/anaconda3/envs/ent_con_arima/lib/python3.10/site-packages (from matplotlib>=3.5.3->neuralprophet) (11.3.0)\n",
                        "Requirement already satisfied: pyparsing>=2.3.1 in /opt/anaconda3/envs/ent_con_arima/lib/python3.10/site-packages (from matplotlib>=3.5.3->neuralprophet) (3.2.3)\n",
                        "Requirement already satisfied: pytz>=2020.1 in /opt/anaconda3/envs/ent_con_arima/lib/python3.10/site-packages (from pandas>=2.0.0->neuralprophet) (2025.2)\n",
                        "Requirement already satisfied: tzdata>=2022.7 in /opt/anaconda3/envs/ent_con_arima/lib/python3.10/site-packages (from pandas>=2.0.0->neuralprophet) (2025.2)\n",
                        "Collecting narwhals>=1.15.1 (from plotly>=5.13.1->neuralprophet)\n",
                        "  Downloading narwhals-2.1.2-py3-none-any.whl.metadata (11 kB)\n",
                        "Requirement already satisfied: six>=1.5 in /opt/anaconda3/envs/ent_con_arima/lib/python3.10/site-packages (from python-dateutil->holidays>=0.41->neuralprophet) (1.17.0)\n",
                        "Collecting PyYAML>5.4 (from pytorch-lightning>=2.0.0->neuralprophet)\n",
                        "  Downloading PyYAML-6.0.2-cp310-cp310-macosx_11_0_arm64.whl.metadata (2.1 kB)\n",
                        "Collecting fsspec>=2022.5.0 (from fsspec[http]>=2022.5.0->pytorch-lightning>=2.0.0->neuralprophet)\n",
                        "  Downloading fsspec-2025.7.0-py3-none-any.whl.metadata (12 kB)\n",
                        "Collecting lightning-utilities>=0.10.0 (from pytorch-lightning>=2.0.0->neuralprophet)\n",
                        "  Downloading lightning_utilities-0.15.2-py3-none-any.whl.metadata (5.7 kB)\n",
                        "Collecting aiohttp!=4.0.0a0,!=4.0.0a1 (from fsspec[http]>=2022.5.0->pytorch-lightning>=2.0.0->neuralprophet)\n",
                        "  Downloading aiohttp-3.12.15-cp310-cp310-macosx_11_0_arm64.whl.metadata (7.7 kB)\n",
                        "Collecting aiohappyeyeballs>=2.5.0 (from aiohttp!=4.0.0a0,!=4.0.0a1->fsspec[http]>=2022.5.0->pytorch-lightning>=2.0.0->neuralprophet)\n",
                        "  Downloading aiohappyeyeballs-2.6.1-py3-none-any.whl.metadata (5.9 kB)\n",
                        "Collecting aiosignal>=1.4.0 (from aiohttp!=4.0.0a0,!=4.0.0a1->fsspec[http]>=2022.5.0->pytorch-lightning>=2.0.0->neuralprophet)\n",
                        "  Downloading aiosignal-1.4.0-py3-none-any.whl.metadata (3.7 kB)\n",
                        "Collecting async-timeout<6.0,>=4.0 (from aiohttp!=4.0.0a0,!=4.0.0a1->fsspec[http]>=2022.5.0->pytorch-lightning>=2.0.0->neuralprophet)\n",
                        "  Downloading async_timeout-5.0.1-py3-none-any.whl.metadata (5.1 kB)\n",
                        "Collecting attrs>=17.3.0 (from aiohttp!=4.0.0a0,!=4.0.0a1->fsspec[http]>=2022.5.0->pytorch-lightning>=2.0.0->neuralprophet)\n",
                        "  Downloading attrs-25.3.0-py3-none-any.whl.metadata (10 kB)\n",
                        "Collecting frozenlist>=1.1.1 (from aiohttp!=4.0.0a0,!=4.0.0a1->fsspec[http]>=2022.5.0->pytorch-lightning>=2.0.0->neuralprophet)\n",
                        "  Downloading frozenlist-1.7.0-cp310-cp310-macosx_11_0_arm64.whl.metadata (18 kB)\n",
                        "Collecting multidict<7.0,>=4.5 (from aiohttp!=4.0.0a0,!=4.0.0a1->fsspec[http]>=2022.5.0->pytorch-lightning>=2.0.0->neuralprophet)\n",
                        "  Downloading multidict-6.6.4-cp310-cp310-macosx_11_0_arm64.whl.metadata (5.3 kB)\n",
                        "Collecting propcache>=0.2.0 (from aiohttp!=4.0.0a0,!=4.0.0a1->fsspec[http]>=2022.5.0->pytorch-lightning>=2.0.0->neuralprophet)\n",
                        "  Downloading propcache-0.3.2-cp310-cp310-macosx_11_0_arm64.whl.metadata (12 kB)\n",
                        "Collecting yarl<2.0,>=1.17.0 (from aiohttp!=4.0.0a0,!=4.0.0a1->fsspec[http]>=2022.5.0->pytorch-lightning>=2.0.0->neuralprophet)\n",
                        "  Downloading yarl-1.20.1-cp310-cp310-macosx_11_0_arm64.whl.metadata (73 kB)\n",
                        "Requirement already satisfied: idna>=2.0 in /opt/anaconda3/envs/ent_con_arima/lib/python3.10/site-packages (from yarl<2.0,>=1.17.0->aiohttp!=4.0.0a0,!=4.0.0a1->fsspec[http]>=2022.5.0->pytorch-lightning>=2.0.0->neuralprophet) (3.10)\n",
                        "Requirement already satisfied: setuptools in /opt/anaconda3/envs/ent_con_arima/lib/python3.10/site-packages (from lightning-utilities>=0.10.0->pytorch-lightning>=2.0.0->neuralprophet) (78.1.1)\n",
                        "Collecting absl-py>=0.4 (from tensorboard>=2.11.2->neuralprophet)\n",
                        "  Using cached absl_py-2.3.1-py3-none-any.whl.metadata (3.3 kB)\n",
                        "Collecting grpcio>=1.48.2 (from tensorboard>=2.11.2->neuralprophet)\n",
                        "  Downloading grpcio-1.74.0-cp310-cp310-macosx_11_0_universal2.whl.metadata (3.8 kB)\n",
                        "Collecting markdown>=2.6.8 (from tensorboard>=2.11.2->neuralprophet)\n",
                        "  Using cached markdown-3.8.2-py3-none-any.whl.metadata (5.1 kB)\n",
                        "Collecting protobuf!=4.24.0,>=3.19.6 (from tensorboard>=2.11.2->neuralprophet)\n",
                        "  Downloading protobuf-6.32.0-cp39-abi3-macosx_10_9_universal2.whl.metadata (593 bytes)\n",
                        "Collecting tensorboard-data-server<0.8.0,>=0.7.0 (from tensorboard>=2.11.2->neuralprophet)\n",
                        "  Using cached tensorboard_data_server-0.7.2-py3-none-any.whl.metadata (1.1 kB)\n",
                        "Collecting werkzeug>=1.0.1 (from tensorboard>=2.11.2->neuralprophet)\n",
                        "  Using cached werkzeug-3.1.3-py3-none-any.whl.metadata (3.7 kB)\n",
                        "Collecting filelock (from torch>=2.0.0->neuralprophet)\n",
                        "  Downloading filelock-3.19.1-py3-none-any.whl.metadata (2.1 kB)\n",
                        "Requirement already satisfied: sympy>=1.13.3 in /opt/anaconda3/envs/ent_con_arima/lib/python3.10/site-packages (from torch>=2.0.0->neuralprophet) (1.14.0)\n",
                        "Collecting networkx (from torch>=2.0.0->neuralprophet)\n",
                        "  Downloading networkx-3.4.2-py3-none-any.whl.metadata (6.3 kB)\n",
                        "Requirement already satisfied: jinja2 in /opt/anaconda3/envs/ent_con_arima/lib/python3.10/site-packages (from torch>=2.0.0->neuralprophet) (3.1.6)\n",
                        "Requirement already satisfied: mpmath<1.4,>=1.1.0 in /opt/anaconda3/envs/ent_con_arima/lib/python3.10/site-packages (from sympy>=1.13.3->torch>=2.0.0->neuralprophet) (1.3.0)\n",
                        "Requirement already satisfied: MarkupSafe>=2.1.1 in /opt/anaconda3/envs/ent_con_arima/lib/python3.10/site-packages (from werkzeug>=1.0.1->tensorboard>=2.11.2->neuralprophet) (3.0.2)\n",
                        "Downloading neuralprophet-0.9.0-py3-none-any.whl (145 kB)\n",
                        "Downloading kaleido-0.2.1-py2.py3-none-macosx_11_0_arm64.whl (85.8 MB)\n",
                        "\u001b[2K   \u001b[90m━━━━━━━━━━━━━━━━━━━━━━━━━━━━━━━━━━━━━━━━\u001b[0m \u001b[32m85.8/85.8 MB\u001b[0m \u001b[31m35.4 MB/s\u001b[0m eta \u001b[36m0:00:00\u001b[0m00:01\u001b[0m00:01\u001b[0m\n",
                        "\u001b[?25hDownloading numpy-1.26.4-cp310-cp310-macosx_11_0_arm64.whl (14.0 MB)\n",
                        "\u001b[2K   \u001b[90m━━━━━━━━━━━━━━━━━━━━━━━━━━━━━━━━━━━━━━━━\u001b[0m \u001b[32m14.0/14.0 MB\u001b[0m \u001b[31m39.1 MB/s\u001b[0m eta \u001b[36m0:00:00\u001b[0m \u001b[36m0:00:01\u001b[0m\n",
                        "\u001b[?25hDownloading captum-0.8.0-py3-none-any.whl (1.4 MB)\n",
                        "\u001b[2K   \u001b[90m━━━━━━━━━━━━━━━━━━━━━━━━━━━━━━━━━━━━━━━━\u001b[0m \u001b[32m1.4/1.4 MB\u001b[0m \u001b[31m29.5 MB/s\u001b[0m eta \u001b[36m0:00:00\u001b[0m\n",
                        "\u001b[?25hDownloading holidays-0.79-py3-none-any.whl (1.2 MB)\n",
                        "\u001b[2K   \u001b[90m━━━━━━━━━━━━━━━━━━━━━━━━━━━━━━━━━━━━━━━━\u001b[0m \u001b[32m1.2/1.2 MB\u001b[0m \u001b[31m41.7 MB/s\u001b[0m eta \u001b[36m0:00:00\u001b[0m\n",
                        "\u001b[?25hDownloading plotly-6.3.0-py3-none-any.whl (9.8 MB)\n",
                        "\u001b[2K   \u001b[90m━━━━━━━━━━━━━━━━━━━━━━━━━━━━━━━━━━━━━━━━\u001b[0m \u001b[32m9.8/9.8 MB\u001b[0m \u001b[31m37.4 MB/s\u001b[0m eta \u001b[36m0:00:00\u001b[0ma \u001b[36m0:00:01\u001b[0m\n",
                        "\u001b[?25hDownloading narwhals-2.1.2-py3-none-any.whl (392 kB)\n",
                        "Downloading pytorch_lightning-2.5.3-py3-none-any.whl (828 kB)\n",
                        "\u001b[2K   \u001b[90m━━━━━━━━━━━━━━━━━━━━━━━━━━━━━━━━━━━━━━━━\u001b[0m \u001b[32m828.2/828.2 kB\u001b[0m \u001b[31m36.7 MB/s\u001b[0m eta \u001b[36m0:00:00\u001b[0m\n",
                        "\u001b[?25hDownloading fsspec-2025.7.0-py3-none-any.whl (199 kB)\n",
                        "Downloading aiohttp-3.12.15-cp310-cp310-macosx_11_0_arm64.whl (468 kB)\n",
                        "Downloading async_timeout-5.0.1-py3-none-any.whl (6.2 kB)\n",
                        "Downloading multidict-6.6.4-cp310-cp310-macosx_11_0_arm64.whl (44 kB)\n",
                        "Downloading yarl-1.20.1-cp310-cp310-macosx_11_0_arm64.whl (89 kB)\n",
                        "Downloading aiohappyeyeballs-2.6.1-py3-none-any.whl (15 kB)\n",
                        "Downloading aiosignal-1.4.0-py3-none-any.whl (7.5 kB)\n",
                        "Downloading attrs-25.3.0-py3-none-any.whl (63 kB)\n",
                        "Downloading frozenlist-1.7.0-cp310-cp310-macosx_11_0_arm64.whl (46 kB)\n",
                        "Downloading lightning_utilities-0.15.2-py3-none-any.whl (29 kB)\n",
                        "Downloading propcache-0.3.2-cp310-cp310-macosx_11_0_arm64.whl (43 kB)\n",
                        "Downloading PyYAML-6.0.2-cp310-cp310-macosx_11_0_arm64.whl (171 kB)\n",
                        "Downloading tensorboard-2.20.0-py3-none-any.whl (5.5 MB)\n",
                        "\u001b[2K   \u001b[90m━━━━━━━━━━━━━━━━━━━━━━━━━━━━━━━━━━━━━━━━\u001b[0m \u001b[32m5.5/5.5 MB\u001b[0m \u001b[31m45.1 MB/s\u001b[0m eta \u001b[36m0:00:00\u001b[0m\n",
                        "\u001b[?25hUsing cached tensorboard_data_server-0.7.2-py3-none-any.whl (2.4 kB)\n",
                        "Using cached absl_py-2.3.1-py3-none-any.whl (135 kB)\n",
                        "Downloading grpcio-1.74.0-cp310-cp310-macosx_11_0_universal2.whl (11.0 MB)\n",
                        "\u001b[2K   \u001b[90m━━━━━━━━━━━━━━━━━━━━━━━━━━━━━━━━━━━━━━━━\u001b[0m \u001b[32m11.0/11.0 MB\u001b[0m \u001b[31m38.5 MB/s\u001b[0m eta \u001b[36m0:00:00\u001b[0m \u001b[36m0:00:01\u001b[0m\n",
                        "\u001b[?25hUsing cached markdown-3.8.2-py3-none-any.whl (106 kB)\n",
                        "Downloading protobuf-6.32.0-cp39-abi3-macosx_10_9_universal2.whl (426 kB)\n",
                        "Downloading torch-2.8.0-cp310-none-macosx_11_0_arm64.whl (73.6 MB)\n",
                        "\u001b[2K   \u001b[90m━━━━━━━━━━━━━━━━━━━━━━━━━━━━━━━━━━━━━━━━\u001b[0m \u001b[32m73.6/73.6 MB\u001b[0m \u001b[31m35.1 MB/s\u001b[0m eta \u001b[36m0:00:00\u001b[0m00:01\u001b[0m00:01\u001b[0m\n",
                        "\u001b[?25hDownloading torchmetrics-1.8.1-py3-none-any.whl (982 kB)\n",
                        "\u001b[2K   \u001b[90m━━━━━━━━━━━━━━━━━━━━━━━━━━━━━━━━━━━━━━━━\u001b[0m \u001b[32m983.0/983.0 kB\u001b[0m \u001b[31m20.0 MB/s\u001b[0m eta \u001b[36m0:00:00\u001b[0m\n",
                        "\u001b[?25hUsing cached tqdm-4.67.1-py3-none-any.whl (78 kB)\n",
                        "Using cached werkzeug-3.1.3-py3-none-any.whl (224 kB)\n",
                        "Downloading filelock-3.19.1-py3-none-any.whl (15 kB)\n",
                        "Downloading networkx-3.4.2-py3-none-any.whl (1.7 MB)\n",
                        "\u001b[2K   \u001b[90m━━━━━━━━━━━━━━━━━━━━━━━━━━━━━━━━━━━━━━━━\u001b[0m \u001b[32m1.7/1.7 MB\u001b[0m \u001b[31m22.2 MB/s\u001b[0m eta \u001b[36m0:00:00\u001b[0m\n",
                        "\u001b[?25hInstalling collected packages: kaleido, werkzeug, tqdm, tensorboard-data-server, PyYAML, protobuf, propcache, numpy, networkx, narwhals, multidict, markdown, lightning-utilities, grpcio, fsspec, frozenlist, filelock, attrs, async-timeout, aiohappyeyeballs, absl-py, yarl, torch, tensorboard, plotly, holidays, aiosignal, torchmetrics, aiohttp, captum, pytorch-lightning, neuralprophet\n",
                        "\u001b[2K  Attempting uninstall: numpym━━━━━━━━━━━━━━━━━━━━━━━━━━━━━━━━━━━━\u001b[0m \u001b[32m 3/32\u001b[0m [tensorboard-data-server]\n",
                        "\u001b[2K    Found existing installation: numpy 1.24.2━━━━━━━━━━━━━━━━━\u001b[0m \u001b[32m 3/32\u001b[0m [tensorboard-data-server]\n",
                        "\u001b[2K    Uninstalling numpy-1.24.2:━━━━━━━━━━━━━━━━━━━━━━━━━━━━━━━━\u001b[0m \u001b[32m 3/32\u001b[0m [tensorboard-data-server]\n",
                        "\u001b[2K      Successfully uninstalled numpy-1.24.2━━━━━━━━━━━━━━━━━━━\u001b[0m \u001b[32m 3/32\u001b[0m [tensorboard-data-server]\n",
                        "\u001b[2K   \u001b[90m━━━━━━━━━━━━━━━━━━━━━━━━━━━━━━━━━━━━━━━━\u001b[0m \u001b[32m32/32\u001b[0m [neuralprophet]0m [pytorch-lightning]r]\n",
                        "\u001b[1A\u001b[2KSuccessfully installed PyYAML-6.0.2 absl-py-2.3.1 aiohappyeyeballs-2.6.1 aiohttp-3.12.15 aiosignal-1.4.0 async-timeout-5.0.1 attrs-25.3.0 captum-0.8.0 filelock-3.19.1 frozenlist-1.7.0 fsspec-2025.7.0 grpcio-1.74.0 holidays-0.79 kaleido-0.2.1 lightning-utilities-0.15.2 markdown-3.8.2 multidict-6.6.4 narwhals-2.1.2 networkx-3.4.2 neuralprophet-0.9.0 numpy-1.26.4 plotly-6.3.0 propcache-0.3.2 protobuf-6.32.0 pytorch-lightning-2.5.3 tensorboard-2.20.0 tensorboard-data-server-0.7.2 torch-2.8.0 torchmetrics-1.8.1 tqdm-4.67.1 werkzeug-3.1.3 yarl-1.20.1\n"
                    ]
                }
            ],
            "source": [
                "!pip install neuralprophet"
            ]
        },
        {
            "cell_type": "code",
            "execution_count": 37,
            "metadata": {},
            "outputs": [
                {
                    "data": {
                        "text/html": [
                            "<div>\n",
                            "<style scoped>\n",
                            "    .dataframe tbody tr th:only-of-type {\n",
                            "        vertical-align: middle;\n",
                            "    }\n",
                            "\n",
                            "    .dataframe tbody tr th {\n",
                            "        vertical-align: top;\n",
                            "    }\n",
                            "\n",
                            "    .dataframe thead th {\n",
                            "        text-align: right;\n",
                            "    }\n",
                            "</style>\n",
                            "<table border=\"1\" class=\"dataframe\">\n",
                            "  <thead>\n",
                            "    <tr style=\"text-align: right;\">\n",
                            "      <th></th>\n",
                            "      <th>Date</th>\n",
                            "      <th>Hyd</th>\n",
                            "    </tr>\n",
                            "  </thead>\n",
                            "  <tbody>\n",
                            "    <tr>\n",
                            "      <th>0</th>\n",
                            "      <td>1998-01-01</td>\n",
                            "      <td>1.82</td>\n",
                            "    </tr>\n",
                            "    <tr>\n",
                            "      <th>1</th>\n",
                            "      <td>1998-01-02</td>\n",
                            "      <td>1.94</td>\n",
                            "    </tr>\n",
                            "    <tr>\n",
                            "      <th>2</th>\n",
                            "      <td>1998-01-03</td>\n",
                            "      <td>2.11</td>\n",
                            "    </tr>\n",
                            "    <tr>\n",
                            "      <th>3</th>\n",
                            "      <td>1998-01-04</td>\n",
                            "      <td>1.84</td>\n",
                            "    </tr>\n",
                            "    <tr>\n",
                            "      <th>4</th>\n",
                            "      <td>1998-01-05</td>\n",
                            "      <td>1.88</td>\n",
                            "    </tr>\n",
                            "    <tr>\n",
                            "      <th>...</th>\n",
                            "      <td>...</td>\n",
                            "      <td>...</td>\n",
                            "    </tr>\n",
                            "    <tr>\n",
                            "      <th>8212</th>\n",
                            "      <td>2020-06-26</td>\n",
                            "      <td>1.34</td>\n",
                            "    </tr>\n",
                            "    <tr>\n",
                            "      <th>8213</th>\n",
                            "      <td>2020-06-27</td>\n",
                            "      <td>1.21</td>\n",
                            "    </tr>\n",
                            "    <tr>\n",
                            "      <th>8214</th>\n",
                            "      <td>2020-06-28</td>\n",
                            "      <td>1.30</td>\n",
                            "    </tr>\n",
                            "    <tr>\n",
                            "      <th>8215</th>\n",
                            "      <td>2020-06-29</td>\n",
                            "      <td>1.19</td>\n",
                            "    </tr>\n",
                            "    <tr>\n",
                            "      <th>8216</th>\n",
                            "      <td>2020-06-30</td>\n",
                            "      <td>1.30</td>\n",
                            "    </tr>\n",
                            "  </tbody>\n",
                            "</table>\n",
                            "<p>8217 rows × 2 columns</p>\n",
                            "</div>"
                        ],
                        "text/plain": [
                            "           Date   Hyd\n",
                            "0    1998-01-01  1.82\n",
                            "1    1998-01-02  1.94\n",
                            "2    1998-01-03  2.11\n",
                            "3    1998-01-04  1.84\n",
                            "4    1998-01-05  1.88\n",
                            "...         ...   ...\n",
                            "8212 2020-06-26  1.34\n",
                            "8213 2020-06-27  1.21\n",
                            "8214 2020-06-28  1.30\n",
                            "8215 2020-06-29  1.19\n",
                            "8216 2020-06-30  1.30\n",
                            "\n",
                            "[8217 rows x 2 columns]"
                        ]
                    },
                    "execution_count": 37,
                    "metadata": {},
                    "output_type": "execute_result"
                }
            ],
            "source": [
                "ts_np = ts.reset_index()\n",
                "\n",
                "ts_np"
            ]
        },
        {
            "cell_type": "code",
            "execution_count": 43,
            "metadata": {},
            "outputs": [
                {
                    "data": {
                        "text/html": [
                            "<div>\n",
                            "<style scoped>\n",
                            "    .dataframe tbody tr th:only-of-type {\n",
                            "        vertical-align: middle;\n",
                            "    }\n",
                            "\n",
                            "    .dataframe tbody tr th {\n",
                            "        vertical-align: top;\n",
                            "    }\n",
                            "\n",
                            "    .dataframe thead th {\n",
                            "        text-align: right;\n",
                            "    }\n",
                            "</style>\n",
                            "<table border=\"1\" class=\"dataframe\">\n",
                            "  <thead>\n",
                            "    <tr style=\"text-align: right;\">\n",
                            "      <th></th>\n",
                            "      <th>ds</th>\n",
                            "      <th>y</th>\n",
                            "    </tr>\n",
                            "  </thead>\n",
                            "  <tbody>\n",
                            "    <tr>\n",
                            "      <th>0</th>\n",
                            "      <td>1998-01-01</td>\n",
                            "      <td>1.82</td>\n",
                            "    </tr>\n",
                            "    <tr>\n",
                            "      <th>1</th>\n",
                            "      <td>1998-01-02</td>\n",
                            "      <td>1.94</td>\n",
                            "    </tr>\n",
                            "    <tr>\n",
                            "      <th>2</th>\n",
                            "      <td>1998-01-03</td>\n",
                            "      <td>2.11</td>\n",
                            "    </tr>\n",
                            "    <tr>\n",
                            "      <th>3</th>\n",
                            "      <td>1998-01-04</td>\n",
                            "      <td>1.84</td>\n",
                            "    </tr>\n",
                            "    <tr>\n",
                            "      <th>4</th>\n",
                            "      <td>1998-01-05</td>\n",
                            "      <td>1.88</td>\n",
                            "    </tr>\n",
                            "    <tr>\n",
                            "      <th>...</th>\n",
                            "      <td>...</td>\n",
                            "      <td>...</td>\n",
                            "    </tr>\n",
                            "    <tr>\n",
                            "      <th>8212</th>\n",
                            "      <td>2020-06-26</td>\n",
                            "      <td>1.34</td>\n",
                            "    </tr>\n",
                            "    <tr>\n",
                            "      <th>8213</th>\n",
                            "      <td>2020-06-27</td>\n",
                            "      <td>1.21</td>\n",
                            "    </tr>\n",
                            "    <tr>\n",
                            "      <th>8214</th>\n",
                            "      <td>2020-06-28</td>\n",
                            "      <td>1.30</td>\n",
                            "    </tr>\n",
                            "    <tr>\n",
                            "      <th>8215</th>\n",
                            "      <td>2020-06-29</td>\n",
                            "      <td>1.19</td>\n",
                            "    </tr>\n",
                            "    <tr>\n",
                            "      <th>8216</th>\n",
                            "      <td>2020-06-30</td>\n",
                            "      <td>1.30</td>\n",
                            "    </tr>\n",
                            "  </tbody>\n",
                            "</table>\n",
                            "<p>8217 rows × 2 columns</p>\n",
                            "</div>"
                        ],
                        "text/plain": [
                            "             ds     y\n",
                            "0    1998-01-01  1.82\n",
                            "1    1998-01-02  1.94\n",
                            "2    1998-01-03  2.11\n",
                            "3    1998-01-04  1.84\n",
                            "4    1998-01-05  1.88\n",
                            "...         ...   ...\n",
                            "8212 2020-06-26  1.34\n",
                            "8213 2020-06-27  1.21\n",
                            "8214 2020-06-28  1.30\n",
                            "8215 2020-06-29  1.19\n",
                            "8216 2020-06-30  1.30\n",
                            "\n",
                            "[8217 rows x 2 columns]"
                        ]
                    },
                    "execution_count": 43,
                    "metadata": {},
                    "output_type": "execute_result"
                }
            ],
            "source": [
                "ts_np.rename(columns={'Date':'ds','Hyd':'y'},inplace=True)\n",
                "ts_np"
            ]
        },
        {
            "cell_type": "code",
            "execution_count": 42,
            "metadata": {},
            "outputs": [
                {
                    "name": "stderr",
                    "output_type": "stream",
                    "text": [
                        "WARNING - (NP.forecaster.fit) - When Global modeling with local normalization, metrics are displayed in normalized scale.\n",
                        "WARNING - (py.warnings._showwarnmsg) - /opt/anaconda3/envs/ent_con_arima/lib/python3.10/site-packages/neuralprophet/df_utils.py:464: FutureWarning:\n",
                        "\n",
                        "DataFrameGroupBy.apply operated on the grouping columns. This behavior is deprecated, and in a future version of pandas the grouping columns will be excluded from the operation. Either pass `include_groups=False` to exclude the groupings or explicitly select the grouping columns after groupby to silence this warning.\n",
                        "\n",
                        "\n",
                        "WARNING - (py.warnings._showwarnmsg) - /opt/anaconda3/envs/ent_con_arima/lib/python3.10/site-packages/neuralprophet/df_utils.py:1152: FutureWarning:\n",
                        "\n",
                        "Series.view is deprecated and will be removed in a future version. Use ``astype`` as an alternative to change the dtype.\n",
                        "\n",
                        "\n",
                        "INFO - (NP.df_utils._infer_frequency) - Major frequency D corresponds to 99.988% of the data.\n",
                        "WARNING - (py.warnings._showwarnmsg) - /opt/anaconda3/envs/ent_con_arima/lib/python3.10/site-packages/neuralprophet/df_utils.py:1152: FutureWarning:\n",
                        "\n",
                        "Series.view is deprecated and will be removed in a future version. Use ``astype`` as an alternative to change the dtype.\n",
                        "\n",
                        "\n",
                        "WARNING - (py.warnings._showwarnmsg) - /opt/anaconda3/envs/ent_con_arima/lib/python3.10/site-packages/neuralprophet/df_utils.py:1152: FutureWarning:\n",
                        "\n",
                        "Series.view is deprecated and will be removed in a future version. Use ``astype`` as an alternative to change the dtype.\n",
                        "\n",
                        "\n",
                        "INFO - (NP.df_utils._infer_frequency) - Defined frequency is equal to major frequency - D\n",
                        "INFO - (NP.config.init_data_params) - Setting normalization to global as only one dataframe provided for training.\n",
                        "INFO - (NP.utils.set_auto_seasonalities) - Disabling daily seasonality. Run NeuralProphet with daily_seasonality=True to override this.\n",
                        "INFO - (NP.config.set_auto_batch_epoch) - Auto-set batch_size to 64\n",
                        "INFO - (NP.config.set_auto_batch_epoch) - Auto-set epochs to 60\n"
                    ]
                },
                {
                    "data": {
                        "application/vnd.jupyter.widget-view+json": {
                            "model_id": "82ed70b257034e3c8c9eb861f22b4944",
                            "version_major": 2,
                            "version_minor": 0
                        },
                        "text/plain": [
                            "Training: |          | 0/? [00:00<?, ?it/s]"
                        ]
                    },
                    "metadata": {},
                    "output_type": "display_data"
                },
                {
                    "name": "stderr",
                    "output_type": "stream",
                    "text": [
                        "WARNING - (NP.config.set_lr_finder_args) - Learning rate finder: The number of batches (129) is too small than the required number                     for the learning rate finder (247). The results might not be optimal.\n"
                    ]
                },
                {
                    "data": {
                        "application/vnd.jupyter.widget-view+json": {
                            "model_id": "a737dda76a7a4a769a530e94a7479f7d",
                            "version_major": 2,
                            "version_minor": 0
                        },
                        "text/plain": [
                            "Finding best initial lr:   0%|          | 0/247 [00:00<?, ?it/s]"
                        ]
                    },
                    "metadata": {},
                    "output_type": "display_data"
                },
                {
                    "data": {
                        "application/vnd.jupyter.widget-view+json": {
                            "model_id": "cee10a0a2c2e4521b0a71843112dd154",
                            "version_major": 2,
                            "version_minor": 0
                        },
                        "text/plain": [
                            "Training: |          | 0/? [00:00<?, ?it/s]"
                        ]
                    },
                    "metadata": {},
                    "output_type": "display_data"
                },
                {
                    "name": "stderr",
                    "output_type": "stream",
                    "text": [
                        "WARNING - (py.warnings._showwarnmsg) - /opt/anaconda3/envs/ent_con_arima/lib/python3.10/site-packages/neuralprophet/df_utils.py:1152: FutureWarning:\n",
                        "\n",
                        "Series.view is deprecated and will be removed in a future version. Use ``astype`` as an alternative to change the dtype.\n",
                        "\n",
                        "\n",
                        "INFO - (NP.df_utils._infer_frequency) - Major frequency D corresponds to 99.988% of the data.\n",
                        "WARNING - (py.warnings._showwarnmsg) - /opt/anaconda3/envs/ent_con_arima/lib/python3.10/site-packages/neuralprophet/df_utils.py:1152: FutureWarning:\n",
                        "\n",
                        "Series.view is deprecated and will be removed in a future version. Use ``astype`` as an alternative to change the dtype.\n",
                        "\n",
                        "\n",
                        "WARNING - (py.warnings._showwarnmsg) - /opt/anaconda3/envs/ent_con_arima/lib/python3.10/site-packages/neuralprophet/df_utils.py:1152: FutureWarning:\n",
                        "\n",
                        "Series.view is deprecated and will be removed in a future version. Use ``astype`` as an alternative to change the dtype.\n",
                        "\n",
                        "\n",
                        "INFO - (NP.df_utils._infer_frequency) - Defined frequency is equal to major frequency - D\n",
                        "INFO - (NP.df_utils.return_df_in_original_format) - Returning df with no ID column\n",
                        "WARNING - (py.warnings._showwarnmsg) - /opt/anaconda3/envs/ent_con_arima/lib/python3.10/site-packages/neuralprophet/df_utils.py:1152: FutureWarning:\n",
                        "\n",
                        "Series.view is deprecated and will be removed in a future version. Use ``astype`` as an alternative to change the dtype.\n",
                        "\n",
                        "\n",
                        "INFO - (NP.df_utils._infer_frequency) - Major frequency D corresponds to 99.726% of the data.\n",
                        "WARNING - (py.warnings._showwarnmsg) - /opt/anaconda3/envs/ent_con_arima/lib/python3.10/site-packages/neuralprophet/df_utils.py:1152: FutureWarning:\n",
                        "\n",
                        "Series.view is deprecated and will be removed in a future version. Use ``astype`` as an alternative to change the dtype.\n",
                        "\n",
                        "\n",
                        "WARNING - (py.warnings._showwarnmsg) - /opt/anaconda3/envs/ent_con_arima/lib/python3.10/site-packages/neuralprophet/df_utils.py:1152: FutureWarning:\n",
                        "\n",
                        "Series.view is deprecated and will be removed in a future version. Use ``astype`` as an alternative to change the dtype.\n",
                        "\n",
                        "\n",
                        "INFO - (NP.df_utils._infer_frequency) - Defined frequency is equal to major frequency - D\n",
                        "WARNING - (py.warnings._showwarnmsg) - /opt/anaconda3/envs/ent_con_arima/lib/python3.10/site-packages/neuralprophet/df_utils.py:1152: FutureWarning:\n",
                        "\n",
                        "Series.view is deprecated and will be removed in a future version. Use ``astype`` as an alternative to change the dtype.\n",
                        "\n",
                        "\n",
                        "INFO - (NP.df_utils._infer_frequency) - Major frequency D corresponds to 99.726% of the data.\n",
                        "WARNING - (py.warnings._showwarnmsg) - /opt/anaconda3/envs/ent_con_arima/lib/python3.10/site-packages/neuralprophet/df_utils.py:1152: FutureWarning:\n",
                        "\n",
                        "Series.view is deprecated and will be removed in a future version. Use ``astype`` as an alternative to change the dtype.\n",
                        "\n",
                        "\n",
                        "WARNING - (py.warnings._showwarnmsg) - /opt/anaconda3/envs/ent_con_arima/lib/python3.10/site-packages/neuralprophet/df_utils.py:1152: FutureWarning:\n",
                        "\n",
                        "Series.view is deprecated and will be removed in a future version. Use ``astype`` as an alternative to change the dtype.\n",
                        "\n",
                        "\n",
                        "INFO - (NP.df_utils._infer_frequency) - Defined frequency is equal to major frequency - D\n",
                        "WARNING - (py.warnings._showwarnmsg) - /opt/anaconda3/envs/ent_con_arima/lib/python3.10/site-packages/neuralprophet/df_utils.py:464: FutureWarning:\n",
                        "\n",
                        "DataFrameGroupBy.apply operated on the grouping columns. This behavior is deprecated, and in a future version of pandas the grouping columns will be excluded from the operation. Either pass `include_groups=False` to exclude the groupings or explicitly select the grouping columns after groupby to silence this warning.\n",
                        "\n",
                        "\n",
                        "WARNING - (py.warnings._showwarnmsg) - /opt/anaconda3/envs/ent_con_arima/lib/python3.10/site-packages/neuralprophet/data/process.py:517: FutureWarning:\n",
                        "\n",
                        "DataFrameGroupBy.apply operated on the grouping columns. This behavior is deprecated, and in a future version of pandas the grouping columns will be excluded from the operation. Either pass `include_groups=False` to exclude the groupings or explicitly select the grouping columns after groupby to silence this warning.\n",
                        "\n",
                        "\n"
                    ]
                },
                {
                    "data": {
                        "application/vnd.jupyter.widget-view+json": {
                            "model_id": "b447a450655f4499a8adc4d47c94a71c",
                            "version_major": 2,
                            "version_minor": 0
                        },
                        "text/plain": [
                            "Predicting: |          | 0/? [00:00<?, ?it/s]"
                        ]
                    },
                    "metadata": {},
                    "output_type": "display_data"
                },
                {
                    "name": "stderr",
                    "output_type": "stream",
                    "text": [
                        "INFO - (NP.df_utils.return_df_in_original_format) - Returning df with no ID column\n"
                    ]
                },
                {
                    "data": {
                        "text/html": [
                            "<div>\n",
                            "<style scoped>\n",
                            "    .dataframe tbody tr th:only-of-type {\n",
                            "        vertical-align: middle;\n",
                            "    }\n",
                            "\n",
                            "    .dataframe tbody tr th {\n",
                            "        vertical-align: top;\n",
                            "    }\n",
                            "\n",
                            "    .dataframe thead th {\n",
                            "        text-align: right;\n",
                            "    }\n",
                            "</style>\n",
                            "<table border=\"1\" class=\"dataframe\">\n",
                            "  <thead>\n",
                            "    <tr style=\"text-align: right;\">\n",
                            "      <th></th>\n",
                            "      <th>ds</th>\n",
                            "      <th>y</th>\n",
                            "      <th>yhat1</th>\n",
                            "      <th>trend</th>\n",
                            "      <th>season_yearly</th>\n",
                            "      <th>season_weekly</th>\n",
                            "    </tr>\n",
                            "  </thead>\n",
                            "  <tbody>\n",
                            "    <tr>\n",
                            "      <th>0</th>\n",
                            "      <td>2020-07-01</td>\n",
                            "      <td>None</td>\n",
                            "      <td>1.091941</td>\n",
                            "      <td>1.416083</td>\n",
                            "      <td>-0.323560</td>\n",
                            "      <td>-0.000582</td>\n",
                            "    </tr>\n",
                            "    <tr>\n",
                            "      <th>1</th>\n",
                            "      <td>2020-07-02</td>\n",
                            "      <td>None</td>\n",
                            "      <td>1.093746</td>\n",
                            "      <td>1.416050</td>\n",
                            "      <td>-0.328800</td>\n",
                            "      <td>0.006495</td>\n",
                            "    </tr>\n",
                            "    <tr>\n",
                            "      <th>2</th>\n",
                            "      <td>2020-07-03</td>\n",
                            "      <td>None</td>\n",
                            "      <td>1.094184</td>\n",
                            "      <td>1.416017</td>\n",
                            "      <td>-0.333782</td>\n",
                            "      <td>0.011949</td>\n",
                            "    </tr>\n",
                            "    <tr>\n",
                            "      <th>3</th>\n",
                            "      <td>2020-07-04</td>\n",
                            "      <td>None</td>\n",
                            "      <td>1.076739</td>\n",
                            "      <td>1.415984</td>\n",
                            "      <td>-0.338570</td>\n",
                            "      <td>-0.000675</td>\n",
                            "    </tr>\n",
                            "    <tr>\n",
                            "      <th>4</th>\n",
                            "      <td>2020-07-05</td>\n",
                            "      <td>None</td>\n",
                            "      <td>1.046159</td>\n",
                            "      <td>1.415951</td>\n",
                            "      <td>-0.343143</td>\n",
                            "      <td>-0.026649</td>\n",
                            "    </tr>\n",
                            "    <tr>\n",
                            "      <th>...</th>\n",
                            "      <td>...</td>\n",
                            "      <td>...</td>\n",
                            "      <td>...</td>\n",
                            "      <td>...</td>\n",
                            "      <td>...</td>\n",
                            "      <td>...</td>\n",
                            "    </tr>\n",
                            "    <tr>\n",
                            "      <th>360</th>\n",
                            "      <td>2021-06-26</td>\n",
                            "      <td>None</td>\n",
                            "      <td>1.111414</td>\n",
                            "      <td>1.404225</td>\n",
                            "      <td>-0.292106</td>\n",
                            "      <td>-0.000705</td>\n",
                            "    </tr>\n",
                            "    <tr>\n",
                            "      <th>361</th>\n",
                            "      <td>2021-06-27</td>\n",
                            "      <td>None</td>\n",
                            "      <td>1.078861</td>\n",
                            "      <td>1.404192</td>\n",
                            "      <td>-0.298668</td>\n",
                            "      <td>-0.026663</td>\n",
                            "    </tr>\n",
                            "    <tr>\n",
                            "      <th>362</th>\n",
                            "      <td>2021-06-28</td>\n",
                            "      <td>None</td>\n",
                            "      <td>1.094828</td>\n",
                            "      <td>1.404159</td>\n",
                            "      <td>-0.304937</td>\n",
                            "      <td>-0.004394</td>\n",
                            "    </tr>\n",
                            "    <tr>\n",
                            "      <th>363</th>\n",
                            "      <td>2021-06-29</td>\n",
                            "      <td>None</td>\n",
                            "      <td>1.107059</td>\n",
                            "      <td>1.404126</td>\n",
                            "      <td>-0.310961</td>\n",
                            "      <td>0.013894</td>\n",
                            "    </tr>\n",
                            "    <tr>\n",
                            "      <th>364</th>\n",
                            "      <td>2021-06-30</td>\n",
                            "      <td>None</td>\n",
                            "      <td>1.086767</td>\n",
                            "      <td>1.404093</td>\n",
                            "      <td>-0.316728</td>\n",
                            "      <td>-0.000598</td>\n",
                            "    </tr>\n",
                            "  </tbody>\n",
                            "</table>\n",
                            "<p>365 rows × 6 columns</p>\n",
                            "</div>"
                        ],
                        "text/plain": [
                            "            ds     y     yhat1     trend  season_yearly  season_weekly\n",
                            "0   2020-07-01  None  1.091941  1.416083      -0.323560      -0.000582\n",
                            "1   2020-07-02  None  1.093746  1.416050      -0.328800       0.006495\n",
                            "2   2020-07-03  None  1.094184  1.416017      -0.333782       0.011949\n",
                            "3   2020-07-04  None  1.076739  1.415984      -0.338570      -0.000675\n",
                            "4   2020-07-05  None  1.046159  1.415951      -0.343143      -0.026649\n",
                            "..         ...   ...       ...       ...            ...            ...\n",
                            "360 2021-06-26  None  1.111414  1.404225      -0.292106      -0.000705\n",
                            "361 2021-06-27  None  1.078861  1.404192      -0.298668      -0.026663\n",
                            "362 2021-06-28  None  1.094828  1.404159      -0.304937      -0.004394\n",
                            "363 2021-06-29  None  1.107059  1.404126      -0.310961       0.013894\n",
                            "364 2021-06-30  None  1.086767  1.404093      -0.316728      -0.000598\n",
                            "\n",
                            "[365 rows x 6 columns]"
                        ]
                    },
                    "execution_count": 42,
                    "metadata": {},
                    "output_type": "execute_result"
                }
            ],
            "source": [
                "from neuralprophet import NeuralProphet\n",
                "\n",
                "m = NeuralProphet()\n",
                "\n",
                "metrics = m.fit(ts_np, freq=\"D\")\n",
                "\n",
                "future= m.make_future_dataframe(ts_np, periods=365)\n",
                "\n",
                "forecast = m.predict(future)\n",
                "forecast"
            ]
        },
        {
            "cell_type": "code",
            "execution_count": 48,
            "metadata": {},
            "outputs": [
                {
                    "data": {
                        "text/plain": [
                            "<Axes: xlabel='Date', ylabel='yhat1'>"
                        ]
                    },
                    "execution_count": 48,
                    "metadata": {},
                    "output_type": "execute_result"
                },
                {
                    "data": {
                        "image/png": "[encoded data removed]",
                        "text/plain": [
                            "<Figure size 640x480 with 1 Axes>"
                        ]
                    },
                    "metadata": {},
                    "output_type": "display_data"
                }
            ],
            "source": [
                "sns.lineplot(data=ts)\n",
                "sns.lineplot(data=forecast, x='ds', y='yhat1')"
            ]
        }
    ],
    "metadata": {
        "kernelspec": {
            "display_name": "ent_con_arima",
            "language": "python",
            "name": "python3"
        },
        "language_info": {
            "codemirror_mode": {
                "name": "ipython",
                "version": 3
            },
            "file_extension": ".py",
            "mimetype": "text/x-python",
            "name": "python",
            "nbconvert_exporter": "python",
            "pygments_lexer": "ipython3",
            "version": "3.10.18"
        },
        "orig_nbformat": 4
    },
    "nbformat": 4,
    "nbformat_minor": 2
}
